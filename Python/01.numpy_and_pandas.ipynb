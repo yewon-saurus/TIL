{
 "cells": [
  {
   "cell_type": "markdown",
   "id": "70b5285f-f71f-4d3f-9ae6-31ec106e59d2",
   "metadata": {},
   "source": [
    "# 기초"
   ]
  },
  {
   "cell_type": "code",
   "execution_count": 1,
   "id": "ce7bc10e-dfef-41b7-bf13-1b8fdf292056",
   "metadata": {},
   "outputs": [],
   "source": [
    "import numpy as np\n",
    "import pandas as pd"
   ]
  },
  {
   "cell_type": "markdown",
   "id": "0a4d49ba-d52d-4c74-a152-52b4c44b4d1e",
   "metadata": {},
   "source": [
    "라이브러리 import"
   ]
  },
  {
   "cell_type": "code",
   "execution_count": 2,
   "id": "91a0f27e-bcf8-4e19-a15b-aff8d4a80fbe",
   "metadata": {},
   "outputs": [
    {
     "data": {
      "text/html": [
       "<div>\n",
       "<style scoped>\n",
       "    .dataframe tbody tr th:only-of-type {\n",
       "        vertical-align: middle;\n",
       "    }\n",
       "\n",
       "    .dataframe tbody tr th {\n",
       "        vertical-align: top;\n",
       "    }\n",
       "\n",
       "    .dataframe thead th {\n",
       "        text-align: right;\n",
       "    }\n",
       "</style>\n",
       "<table border=\"1\" class=\"dataframe\">\n",
       "  <thead>\n",
       "    <tr style=\"text-align: right;\">\n",
       "      <th></th>\n",
       "      <th>year</th>\n",
       "      <th>household</th>\n",
       "      <th>k_male</th>\n",
       "      <th>k_female</th>\n",
       "      <th>f_male</th>\n",
       "      <th>f_female</th>\n",
       "    </tr>\n",
       "  </thead>\n",
       "  <tbody>\n",
       "    <tr>\n",
       "      <th>0</th>\n",
       "      <td>1981</td>\n",
       "      <td>NaN</td>\n",
       "      <td>4160</td>\n",
       "      <td>4191</td>\n",
       "      <td>NaN</td>\n",
       "      <td>NaN</td>\n",
       "    </tr>\n",
       "    <tr>\n",
       "      <th>1</th>\n",
       "      <td>1982</td>\n",
       "      <td>NaN</td>\n",
       "      <td>4160</td>\n",
       "      <td>4191</td>\n",
       "      <td>NaN</td>\n",
       "      <td>NaN</td>\n",
       "    </tr>\n",
       "    <tr>\n",
       "      <th>2</th>\n",
       "      <td>1983</td>\n",
       "      <td>2116.0</td>\n",
       "      <td>4160</td>\n",
       "      <td>4191</td>\n",
       "      <td>NaN</td>\n",
       "      <td>NaN</td>\n",
       "    </tr>\n",
       "    <tr>\n",
       "      <th>3</th>\n",
       "      <td>1984</td>\n",
       "      <td>2246.0</td>\n",
       "      <td>4160</td>\n",
       "      <td>4191</td>\n",
       "      <td>NaN</td>\n",
       "      <td>NaN</td>\n",
       "    </tr>\n",
       "    <tr>\n",
       "      <th>4</th>\n",
       "      <td>1985</td>\n",
       "      <td>2338.0</td>\n",
       "      <td>4788</td>\n",
       "      <td>4838</td>\n",
       "      <td>7.0</td>\n",
       "      <td>6.0</td>\n",
       "    </tr>\n",
       "  </tbody>\n",
       "</table>\n",
       "</div>"
      ],
      "text/plain": [
       "   year  household  k_male  k_female  f_male  f_female\n",
       "0  1981        NaN    4160      4191     NaN       NaN\n",
       "1  1982        NaN    4160      4191     NaN       NaN\n",
       "2  1983     2116.0    4160      4191     NaN       NaN\n",
       "3  1984     2246.0    4160      4191     NaN       NaN\n",
       "4  1985     2338.0    4788      4838     7.0       6.0"
      ]
     },
     "execution_count": 2,
     "metadata": {},
     "output_type": "execute_result"
    }
   ],
   "source": [
    "path = 'https://raw.githubusercontent.com/DA4BAM/dataset/master/population_sample.csv'\n",
    "pop = pd.read_csv(path)\n",
    "\n",
    "pop.head()"
   ]
  },
  {
   "cell_type": "markdown",
   "id": "a56aa393-4fc9-4253-a5dd-3ab391569ad8",
   "metadata": {},
   "source": [
    "CSV 파일에서 데이터 읽어 오기"
   ]
  },
  {
   "cell_type": "code",
   "execution_count": 5,
   "id": "27cffc3d-bf6a-49d6-a1e3-d2fb019eeb6e",
   "metadata": {},
   "outputs": [
    {
     "data": {
      "text/plain": [
       "(42, 6)"
      ]
     },
     "execution_count": 5,
     "metadata": {},
     "output_type": "execute_result"
    }
   ],
   "source": [
    "pop.shape"
   ]
  },
  {
   "cell_type": "markdown",
   "id": "01f19658-09f2-442c-b7c2-de2767245a1c",
   "metadata": {},
   "source": [
    "데이터프레임 모양 확인 -> (행수, 열수)"
   ]
  },
  {
   "cell_type": "code",
   "execution_count": 6,
   "id": "cf80eb13-34cd-419b-82b3-aadf39c5da3a",
   "metadata": {},
   "outputs": [
    {
     "name": "stdout",
     "output_type": "stream",
     "text": [
      "<class 'pandas.core.frame.DataFrame'>\n",
      "RangeIndex: 42 entries, 0 to 41\n",
      "Data columns (total 6 columns):\n",
      " #   Column     Non-Null Count  Dtype  \n",
      "---  ------     --------------  -----  \n",
      " 0   year       42 non-null     int64  \n",
      " 1   household  40 non-null     float64\n",
      " 2   k_male     42 non-null     int64  \n",
      " 3   k_female   42 non-null     int64  \n",
      " 4   f_male     38 non-null     float64\n",
      " 5   f_female   38 non-null     float64\n",
      "dtypes: float64(3), int64(3)\n",
      "memory usage: 2.1 KB\n"
     ]
    }
   ],
   "source": [
    "pop.info() # 인덱스, 열, 값, 개수, 데이터 형식 정보 등 확인"
   ]
  },
  {
   "cell_type": "code",
   "execution_count": 7,
   "id": "c248e7a8-5592-459a-b9d8-66cf95eadcf8",
   "metadata": {},
   "outputs": [
    {
     "data": {
      "text/html": [
       "<div>\n",
       "<style scoped>\n",
       "    .dataframe tbody tr th:only-of-type {\n",
       "        vertical-align: middle;\n",
       "    }\n",
       "\n",
       "    .dataframe tbody tr th {\n",
       "        vertical-align: top;\n",
       "    }\n",
       "\n",
       "    .dataframe thead th {\n",
       "        text-align: right;\n",
       "    }\n",
       "</style>\n",
       "<table border=\"1\" class=\"dataframe\">\n",
       "  <thead>\n",
       "    <tr style=\"text-align: right;\">\n",
       "      <th></th>\n",
       "      <th>year</th>\n",
       "      <th>household</th>\n",
       "      <th>k_male</th>\n",
       "      <th>k_female</th>\n",
       "      <th>f_male</th>\n",
       "      <th>f_female</th>\n",
       "    </tr>\n",
       "  </thead>\n",
       "  <tbody>\n",
       "    <tr>\n",
       "      <th>count</th>\n",
       "      <td>42.000000</td>\n",
       "      <td>40.000000</td>\n",
       "      <td>42.00000</td>\n",
       "      <td>42.000000</td>\n",
       "      <td>38.000000</td>\n",
       "      <td>38.000000</td>\n",
       "    </tr>\n",
       "    <tr>\n",
       "      <th>mean</th>\n",
       "      <td>2001.500000</td>\n",
       "      <td>3617.200000</td>\n",
       "      <td>4979.00000</td>\n",
       "      <td>5033.738095</td>\n",
       "      <td>67.552632</td>\n",
       "      <td>72.578947</td>\n",
       "    </tr>\n",
       "    <tr>\n",
       "      <th>std</th>\n",
       "      <td>12.267844</td>\n",
       "      <td>667.786285</td>\n",
       "      <td>344.36141</td>\n",
       "      <td>307.954468</td>\n",
       "      <td>50.758941</td>\n",
       "      <td>57.153483</td>\n",
       "    </tr>\n",
       "    <tr>\n",
       "      <th>min</th>\n",
       "      <td>1981.000000</td>\n",
       "      <td>2116.000000</td>\n",
       "      <td>4160.00000</td>\n",
       "      <td>4191.000000</td>\n",
       "      <td>5.000000</td>\n",
       "      <td>4.000000</td>\n",
       "    </tr>\n",
       "    <tr>\n",
       "      <th>25%</th>\n",
       "      <td>1991.250000</td>\n",
       "      <td>3419.000000</td>\n",
       "      <td>4841.75000</td>\n",
       "      <td>4986.750000</td>\n",
       "      <td>21.750000</td>\n",
       "      <td>19.500000</td>\n",
       "    </tr>\n",
       "    <tr>\n",
       "      <th>50%</th>\n",
       "      <td>2001.500000</td>\n",
       "      <td>3669.500000</td>\n",
       "      <td>5062.00000</td>\n",
       "      <td>5121.000000</td>\n",
       "      <td>51.500000</td>\n",
       "      <td>57.500000</td>\n",
       "    </tr>\n",
       "    <tr>\n",
       "      <th>75%</th>\n",
       "      <td>2011.750000</td>\n",
       "      <td>4190.000000</td>\n",
       "      <td>5153.75000</td>\n",
       "      <td>5153.000000</td>\n",
       "      <td>121.000000</td>\n",
       "      <td>133.500000</td>\n",
       "    </tr>\n",
       "    <tr>\n",
       "      <th>max</th>\n",
       "      <td>2022.000000</td>\n",
       "      <td>4446.000000</td>\n",
       "      <td>5500.00000</td>\n",
       "      <td>5435.000000</td>\n",
       "      <td>137.000000</td>\n",
       "      <td>148.000000</td>\n",
       "    </tr>\n",
       "  </tbody>\n",
       "</table>\n",
       "</div>"
      ],
      "text/plain": [
       "              year    household      k_male     k_female      f_male  \\\n",
       "count    42.000000    40.000000    42.00000    42.000000   38.000000   \n",
       "mean   2001.500000  3617.200000  4979.00000  5033.738095   67.552632   \n",
       "std      12.267844   667.786285   344.36141   307.954468   50.758941   \n",
       "min    1981.000000  2116.000000  4160.00000  4191.000000    5.000000   \n",
       "25%    1991.250000  3419.000000  4841.75000  4986.750000   21.750000   \n",
       "50%    2001.500000  3669.500000  5062.00000  5121.000000   51.500000   \n",
       "75%    2011.750000  4190.000000  5153.75000  5153.000000  121.000000   \n",
       "max    2022.000000  4446.000000  5500.00000  5435.000000  137.000000   \n",
       "\n",
       "         f_female  \n",
       "count   38.000000  \n",
       "mean    72.578947  \n",
       "std     57.153483  \n",
       "min      4.000000  \n",
       "25%     19.500000  \n",
       "50%     57.500000  \n",
       "75%    133.500000  \n",
       "max    148.000000  "
      ]
     },
     "execution_count": 7,
     "metadata": {},
     "output_type": "execute_result"
    }
   ],
   "source": [
    "pop.describe() # 기초 통계 정보 확인"
   ]
  },
  {
   "cell_type": "code",
   "execution_count": 10,
   "id": "7b16b263-7e61-4c0d-bd19-6f169c29554a",
   "metadata": {},
   "outputs": [
    {
     "data": {
      "text/html": [
       "<div>\n",
       "<style scoped>\n",
       "    .dataframe tbody tr th:only-of-type {\n",
       "        vertical-align: middle;\n",
       "    }\n",
       "\n",
       "    .dataframe tbody tr th {\n",
       "        vertical-align: top;\n",
       "    }\n",
       "\n",
       "    .dataframe thead th {\n",
       "        text-align: right;\n",
       "    }\n",
       "</style>\n",
       "<table border=\"1\" class=\"dataframe\">\n",
       "  <thead>\n",
       "    <tr style=\"text-align: right;\">\n",
       "      <th></th>\n",
       "      <th>PassengerId</th>\n",
       "      <th>Survived</th>\n",
       "      <th>Pclass</th>\n",
       "      <th>Name</th>\n",
       "      <th>Sex</th>\n",
       "      <th>Age</th>\n",
       "      <th>Fare</th>\n",
       "      <th>Embarked</th>\n",
       "    </tr>\n",
       "  </thead>\n",
       "  <tbody>\n",
       "    <tr>\n",
       "      <th>0</th>\n",
       "      <td>1</td>\n",
       "      <td>0</td>\n",
       "      <td>3</td>\n",
       "      <td>Braund, Mr. Owen Harris</td>\n",
       "      <td>male</td>\n",
       "      <td>22.0</td>\n",
       "      <td>7.2500</td>\n",
       "      <td>Southampton</td>\n",
       "    </tr>\n",
       "    <tr>\n",
       "      <th>1</th>\n",
       "      <td>2</td>\n",
       "      <td>1</td>\n",
       "      <td>1</td>\n",
       "      <td>Cumings, Mrs. John Bradley (Florence Briggs Th...</td>\n",
       "      <td>female</td>\n",
       "      <td>38.0</td>\n",
       "      <td>71.2833</td>\n",
       "      <td>Cherbourg</td>\n",
       "    </tr>\n",
       "    <tr>\n",
       "      <th>2</th>\n",
       "      <td>3</td>\n",
       "      <td>1</td>\n",
       "      <td>3</td>\n",
       "      <td>Heikkinen, Miss. Laina</td>\n",
       "      <td>female</td>\n",
       "      <td>26.0</td>\n",
       "      <td>7.9250</td>\n",
       "      <td>Southampton</td>\n",
       "    </tr>\n",
       "    <tr>\n",
       "      <th>3</th>\n",
       "      <td>4</td>\n",
       "      <td>1</td>\n",
       "      <td>1</td>\n",
       "      <td>Futrelle, Mrs. Jacques Heath (Lily May Peel)</td>\n",
       "      <td>female</td>\n",
       "      <td>35.0</td>\n",
       "      <td>53.1000</td>\n",
       "      <td>Southampton</td>\n",
       "    </tr>\n",
       "    <tr>\n",
       "      <th>4</th>\n",
       "      <td>5</td>\n",
       "      <td>0</td>\n",
       "      <td>3</td>\n",
       "      <td>Allen, Mr. William Henry</td>\n",
       "      <td>male</td>\n",
       "      <td>35.0</td>\n",
       "      <td>8.0500</td>\n",
       "      <td>Southampton</td>\n",
       "    </tr>\n",
       "  </tbody>\n",
       "</table>\n",
       "</div>"
      ],
      "text/plain": [
       "   PassengerId  Survived  Pclass  \\\n",
       "0            1         0       3   \n",
       "1            2         1       1   \n",
       "2            3         1       3   \n",
       "3            4         1       1   \n",
       "4            5         0       3   \n",
       "\n",
       "                                                Name     Sex   Age     Fare  \\\n",
       "0                            Braund, Mr. Owen Harris    male  22.0   7.2500   \n",
       "1  Cumings, Mrs. John Bradley (Florence Briggs Th...  female  38.0  71.2833   \n",
       "2                             Heikkinen, Miss. Laina  female  26.0   7.9250   \n",
       "3       Futrelle, Mrs. Jacques Heath (Lily May Peel)  female  35.0  53.1000   \n",
       "4                           Allen, Mr. William Henry    male  35.0   8.0500   \n",
       "\n",
       "      Embarked  \n",
       "0  Southampton  \n",
       "1    Cherbourg  \n",
       "2  Southampton  \n",
       "3  Southampton  \n",
       "4  Southampton  "
      ]
     },
     "execution_count": 10,
     "metadata": {},
     "output_type": "execute_result"
    }
   ],
   "source": [
    "path = 'https://raw.githubusercontent.com/DA4BAM/dataset/master/titanic_simple.csv'\n",
    "titanic = pd.read_csv(path)\n",
    "\n",
    "titanic.head()"
   ]
  },
  {
   "cell_type": "code",
   "execution_count": 14,
   "id": "cb04f18e-8eef-43e1-993e-fce0ce2c6cb0",
   "metadata": {},
   "outputs": [
    {
     "name": "stdout",
     "output_type": "stream",
     "text": [
      "<class 'pandas.core.frame.DataFrame'>\n",
      "RangeIndex: 891 entries, 0 to 890\n",
      "Data columns (total 8 columns):\n",
      " #   Column       Non-Null Count  Dtype  \n",
      "---  ------       --------------  -----  \n",
      " 0   PassengerId  891 non-null    int64  \n",
      " 1   Survived     891 non-null    int64  \n",
      " 2   Pclass       891 non-null    int64  \n",
      " 3   Name         891 non-null    object \n",
      " 4   Sex          891 non-null    object \n",
      " 5   Age          714 non-null    float64\n",
      " 6   Fare         891 non-null    float64\n",
      " 7   Embarked     889 non-null    object \n",
      "dtypes: float64(2), int64(3), object(3)\n",
      "memory usage: 55.8+ KB\n"
     ]
    }
   ],
   "source": [
    "titanic.info()"
   ]
  },
  {
   "cell_type": "code",
   "execution_count": 17,
   "id": "23988be3-cbcd-4d45-b1fc-3288fc4b3e73",
   "metadata": {},
   "outputs": [
    {
     "name": "stdout",
     "output_type": "stream",
     "text": [
      "<class 'pandas.core.frame.DataFrame'>\n",
      "Int64Index: 549 entries, 0 to 890\n",
      "Data columns (total 8 columns):\n",
      " #   Column       Non-Null Count  Dtype  \n",
      "---  ------       --------------  -----  \n",
      " 0   PassengerId  549 non-null    int64  \n",
      " 1   Survived     549 non-null    int64  \n",
      " 2   Pclass       549 non-null    int64  \n",
      " 3   Name         549 non-null    object \n",
      " 4   Sex          549 non-null    object \n",
      " 5   Age          424 non-null    float64\n",
      " 6   Fare         549 non-null    float64\n",
      " 7   Embarked     549 non-null    object \n",
      "dtypes: float64(2), int64(3), object(3)\n",
      "memory usage: 38.6+ KB\n"
     ]
    }
   ],
   "source": [
    "titanic.loc[titanic['Survived'] == 0].info()"
   ]
  },
  {
   "cell_type": "markdown",
   "id": "5eba09a9-2f8a-41ab-b52f-98010d5b4b26",
   "metadata": {},
   "source": [
    "`.loc`: 조건으로 조회"
   ]
  },
  {
   "cell_type": "code",
   "execution_count": 13,
   "id": "eba5e746-a410-4631-a772-29ab5c013fa9",
   "metadata": {},
   "outputs": [
    {
     "data": {
      "text/html": [
       "<div>\n",
       "<style scoped>\n",
       "    .dataframe tbody tr th:only-of-type {\n",
       "        vertical-align: middle;\n",
       "    }\n",
       "\n",
       "    .dataframe tbody tr th {\n",
       "        vertical-align: top;\n",
       "    }\n",
       "\n",
       "    .dataframe thead th {\n",
       "        text-align: right;\n",
       "    }\n",
       "</style>\n",
       "<table border=\"1\" class=\"dataframe\">\n",
       "  <thead>\n",
       "    <tr style=\"text-align: right;\">\n",
       "      <th></th>\n",
       "      <th>Survived</th>\n",
       "      <th>Fare</th>\n",
       "    </tr>\n",
       "  </thead>\n",
       "  <tbody>\n",
       "    <tr>\n",
       "      <th>0</th>\n",
       "      <td>0</td>\n",
       "      <td>7.2500</td>\n",
       "    </tr>\n",
       "    <tr>\n",
       "      <th>1</th>\n",
       "      <td>1</td>\n",
       "      <td>71.2833</td>\n",
       "    </tr>\n",
       "    <tr>\n",
       "      <th>2</th>\n",
       "      <td>1</td>\n",
       "      <td>7.9250</td>\n",
       "    </tr>\n",
       "    <tr>\n",
       "      <th>3</th>\n",
       "      <td>1</td>\n",
       "      <td>53.1000</td>\n",
       "    </tr>\n",
       "    <tr>\n",
       "      <th>4</th>\n",
       "      <td>0</td>\n",
       "      <td>8.0500</td>\n",
       "    </tr>\n",
       "    <tr>\n",
       "      <th>...</th>\n",
       "      <td>...</td>\n",
       "      <td>...</td>\n",
       "    </tr>\n",
       "    <tr>\n",
       "      <th>886</th>\n",
       "      <td>0</td>\n",
       "      <td>13.0000</td>\n",
       "    </tr>\n",
       "    <tr>\n",
       "      <th>887</th>\n",
       "      <td>1</td>\n",
       "      <td>30.0000</td>\n",
       "    </tr>\n",
       "    <tr>\n",
       "      <th>888</th>\n",
       "      <td>0</td>\n",
       "      <td>23.4500</td>\n",
       "    </tr>\n",
       "    <tr>\n",
       "      <th>889</th>\n",
       "      <td>1</td>\n",
       "      <td>30.0000</td>\n",
       "    </tr>\n",
       "    <tr>\n",
       "      <th>890</th>\n",
       "      <td>0</td>\n",
       "      <td>7.7500</td>\n",
       "    </tr>\n",
       "  </tbody>\n",
       "</table>\n",
       "<p>891 rows × 2 columns</p>\n",
       "</div>"
      ],
      "text/plain": [
       "     Survived     Fare\n",
       "0           0   7.2500\n",
       "1           1  71.2833\n",
       "2           1   7.9250\n",
       "3           1  53.1000\n",
       "4           0   8.0500\n",
       "..        ...      ...\n",
       "886         0  13.0000\n",
       "887         1  30.0000\n",
       "888         0  23.4500\n",
       "889         1  30.0000\n",
       "890         0   7.7500\n",
       "\n",
       "[891 rows x 2 columns]"
      ]
     },
     "execution_count": 13,
     "metadata": {},
     "output_type": "execute_result"
    }
   ],
   "source": [
    "titanic.loc[:, ['Survived','Fare']]"
   ]
  },
  {
   "cell_type": "markdown",
   "id": "2b4d5592-651d-4f09-be8d-7f35d03eb5a5",
   "metadata": {},
   "source": [
    "특정 열 이름만 지정해서, 모든 행을 가져오기"
   ]
  },
  {
   "cell_type": "markdown",
   "id": "e7e1ef68-5862-40cc-9835-b66223bbdd20",
   "metadata": {},
   "source": [
    "### (+) 편리한 메소드\n",
    "\n",
    "`isin()`, `betwwen()`"
   ]
  },
  {
   "cell_type": "markdown",
   "id": "acc87f4b-7513-4d51-a732-68251c9c1a4a",
   "metadata": {},
   "source": [
    "### (+) 집계 함수\n",
    "\n",
    "- `sum()`\n",
    "- `mean()`\n",
    "- `max()`\n",
    "- `min()`\n",
    "- `count()`"
   ]
  },
  {
   "cell_type": "code",
   "execution_count": 25,
   "id": "4808aa49-2c56-48cb-8468-4e504d6aef13",
   "metadata": {},
   "outputs": [
    {
     "data": {
      "text/plain": [
       "Sex\n",
       "female    233\n",
       "male      109\n",
       "Name: Survived, dtype: int64"
      ]
     },
     "execution_count": 25,
     "metadata": {},
     "output_type": "execute_result"
    }
   ],
   "source": [
    "titanic.groupby('Sex', as_index=True)['Survived'].sum()"
   ]
  },
  {
   "cell_type": "code",
   "execution_count": 27,
   "id": "663bb9a1-f43d-40ba-84bf-2f8ffb4777af",
   "metadata": {},
   "outputs": [
    {
     "data": {
      "text/html": [
       "<div>\n",
       "<style scoped>\n",
       "    .dataframe tbody tr th:only-of-type {\n",
       "        vertical-align: middle;\n",
       "    }\n",
       "\n",
       "    .dataframe tbody tr th {\n",
       "        vertical-align: top;\n",
       "    }\n",
       "\n",
       "    .dataframe thead th {\n",
       "        text-align: right;\n",
       "    }\n",
       "</style>\n",
       "<table border=\"1\" class=\"dataframe\">\n",
       "  <thead>\n",
       "    <tr style=\"text-align: right;\">\n",
       "      <th></th>\n",
       "      <th>Survived</th>\n",
       "    </tr>\n",
       "    <tr>\n",
       "      <th>Sex</th>\n",
       "      <th></th>\n",
       "    </tr>\n",
       "  </thead>\n",
       "  <tbody>\n",
       "    <tr>\n",
       "      <th>female</th>\n",
       "      <td>233</td>\n",
       "    </tr>\n",
       "    <tr>\n",
       "      <th>male</th>\n",
       "      <td>109</td>\n",
       "    </tr>\n",
       "  </tbody>\n",
       "</table>\n",
       "</div>"
      ],
      "text/plain": [
       "        Survived\n",
       "Sex             \n",
       "female       233\n",
       "male         109"
      ]
     },
     "execution_count": 27,
     "metadata": {},
     "output_type": "execute_result"
    }
   ],
   "source": [
    "titanic.groupby('Sex', as_index=True)[['Survived']].sum()"
   ]
  },
  {
   "cell_type": "markdown",
   "id": "f7704fa3-8026-4871-b4d3-90a28b4c55f8",
   "metadata": {},
   "source": [
    "집계대상변수(`Survived`)를 다시 `[]`로 한 번 더 감싸니까, 결과가 데이터프레임으로 나타나는구나~"
   ]
  },
  {
   "cell_type": "code",
   "execution_count": 30,
   "id": "5e0d2961-d6aa-4bde-af5e-4a464380b583",
   "metadata": {},
   "outputs": [
    {
     "data": {
      "text/html": [
       "<div>\n",
       "<style scoped>\n",
       "    .dataframe tbody tr th:only-of-type {\n",
       "        vertical-align: middle;\n",
       "    }\n",
       "\n",
       "    .dataframe tbody tr th {\n",
       "        vertical-align: top;\n",
       "    }\n",
       "\n",
       "    .dataframe thead th {\n",
       "        text-align: right;\n",
       "    }\n",
       "</style>\n",
       "<table border=\"1\" class=\"dataframe\">\n",
       "  <thead>\n",
       "    <tr style=\"text-align: right;\">\n",
       "      <th></th>\n",
       "      <th>Sex</th>\n",
       "      <th>Survived</th>\n",
       "    </tr>\n",
       "  </thead>\n",
       "  <tbody>\n",
       "    <tr>\n",
       "      <th>0</th>\n",
       "      <td>female</td>\n",
       "      <td>233</td>\n",
       "    </tr>\n",
       "    <tr>\n",
       "      <th>1</th>\n",
       "      <td>male</td>\n",
       "      <td>109</td>\n",
       "    </tr>\n",
       "  </tbody>\n",
       "</table>\n",
       "</div>"
      ],
      "text/plain": [
       "      Sex  Survived\n",
       "0  female       233\n",
       "1    male       109"
      ]
     },
     "execution_count": 30,
     "metadata": {},
     "output_type": "execute_result"
    }
   ],
   "source": [
    "titanic.groupby('Sex', as_index=False)['Survived'].sum()"
   ]
  },
  {
   "cell_type": "markdown",
   "id": "b8820a0b-5907-4904-bffc-eac1a857c5b9",
   "metadata": {},
   "source": [
    "헐. 이렇게 해도 데이터프레임으로 나타나는구나~"
   ]
  },
  {
   "cell_type": "code",
   "execution_count": 31,
   "id": "d0ef51a8-2c94-47b1-89a0-4a6adb908b87",
   "metadata": {},
   "outputs": [
    {
     "data": {
      "text/html": [
       "<div>\n",
       "<style scoped>\n",
       "    .dataframe tbody tr th:only-of-type {\n",
       "        vertical-align: middle;\n",
       "    }\n",
       "\n",
       "    .dataframe tbody tr th {\n",
       "        vertical-align: top;\n",
       "    }\n",
       "\n",
       "    .dataframe thead th {\n",
       "        text-align: right;\n",
       "    }\n",
       "</style>\n",
       "<table border=\"1\" class=\"dataframe\">\n",
       "  <thead>\n",
       "    <tr style=\"text-align: right;\">\n",
       "      <th></th>\n",
       "      <th>Sex</th>\n",
       "      <th>Survived</th>\n",
       "      <th>Fare</th>\n",
       "      <th>Pclass</th>\n",
       "    </tr>\n",
       "  </thead>\n",
       "  <tbody>\n",
       "    <tr>\n",
       "      <th>0</th>\n",
       "      <td>female</td>\n",
       "      <td>0</td>\n",
       "      <td>1864.9752</td>\n",
       "      <td>231</td>\n",
       "    </tr>\n",
       "    <tr>\n",
       "      <th>1</th>\n",
       "      <td>female</td>\n",
       "      <td>1</td>\n",
       "      <td>12101.6876</td>\n",
       "      <td>447</td>\n",
       "    </tr>\n",
       "    <tr>\n",
       "      <th>2</th>\n",
       "      <td>male</td>\n",
       "      <td>0</td>\n",
       "      <td>10277.7447</td>\n",
       "      <td>1159</td>\n",
       "    </tr>\n",
       "    <tr>\n",
       "      <th>3</th>\n",
       "      <td>male</td>\n",
       "      <td>1</td>\n",
       "      <td>4449.5418</td>\n",
       "      <td>220</td>\n",
       "    </tr>\n",
       "  </tbody>\n",
       "</table>\n",
       "</div>"
      ],
      "text/plain": [
       "      Sex  Survived        Fare  Pclass\n",
       "0  female         0   1864.9752     231\n",
       "1  female         1  12101.6876     447\n",
       "2    male         0  10277.7447    1159\n",
       "3    male         1   4449.5418     220"
      ]
     },
     "execution_count": 31,
     "metadata": {},
     "output_type": "execute_result"
    }
   ],
   "source": [
    "titanic.groupby(['Sex', 'Survived'], as_index=False)[['Fare','Pclass']].sum()"
   ]
  },
  {
   "cell_type": "markdown",
   "id": "e8a38e0a-f462-4b27-8d3a-562a8b22d201",
   "metadata": {},
   "source": [
    "- 집계 대상 열을 리스트로 지정 가능\n",
    "- 집계 기준 열을 여럿 설정 가능"
   ]
  },
  {
   "cell_type": "code",
   "execution_count": 36,
   "id": "ca216f81-7853-4121-adc4-064a541220f3",
   "metadata": {},
   "outputs": [
    {
     "data": {
      "text/html": [
       "<div>\n",
       "<style scoped>\n",
       "    .dataframe tbody tr th:only-of-type {\n",
       "        vertical-align: middle;\n",
       "    }\n",
       "\n",
       "    .dataframe tbody tr th {\n",
       "        vertical-align: top;\n",
       "    }\n",
       "\n",
       "    .dataframe thead th {\n",
       "        text-align: right;\n",
       "    }\n",
       "</style>\n",
       "<table border=\"1\" class=\"dataframe\">\n",
       "  <thead>\n",
       "    <tr style=\"text-align: right;\">\n",
       "      <th></th>\n",
       "      <th>sum</th>\n",
       "      <th>mean</th>\n",
       "      <th>max</th>\n",
       "      <th>min</th>\n",
       "    </tr>\n",
       "    <tr>\n",
       "      <th>Survived</th>\n",
       "      <th></th>\n",
       "      <th></th>\n",
       "      <th></th>\n",
       "      <th></th>\n",
       "    </tr>\n",
       "  </thead>\n",
       "  <tbody>\n",
       "    <tr>\n",
       "      <th>0</th>\n",
       "      <td>12985.50</td>\n",
       "      <td>30.626179</td>\n",
       "      <td>74.0</td>\n",
       "      <td>1.00</td>\n",
       "    </tr>\n",
       "    <tr>\n",
       "      <th>1</th>\n",
       "      <td>8219.67</td>\n",
       "      <td>28.343690</td>\n",
       "      <td>80.0</td>\n",
       "      <td>0.42</td>\n",
       "    </tr>\n",
       "  </tbody>\n",
       "</table>\n",
       "</div>"
      ],
      "text/plain": [
       "               sum       mean   max   min\n",
       "Survived                                 \n",
       "0         12985.50  30.626179  74.0  1.00\n",
       "1          8219.67  28.343690  80.0  0.42"
      ]
     },
     "execution_count": 36,
     "metadata": {},
     "output_type": "execute_result"
    }
   ],
   "source": [
    "# 'Survived' 별 'Age'의 합계, 평균, 최댓값, 최솟값\n",
    "titanic.groupby('Survived')['Age'].agg(['sum','mean','max','min'])"
   ]
  },
  {
   "cell_type": "markdown",
   "id": "07e1a28c-c735-4066-a88d-f02eb1fcdbc3",
   "metadata": {},
   "source": [
    "`.agg()` 메소드로 다양한 집계\n",
    "- 여러 열에 대해 한 번에 집계 가능"
   ]
  },
  {
   "cell_type": "code",
   "execution_count": 39,
   "id": "382ac42c-2d69-41fa-829d-3eeecb33cd89",
   "metadata": {},
   "outputs": [
    {
     "data": {
      "text/html": [
       "<div>\n",
       "<style scoped>\n",
       "    .dataframe tbody tr th:only-of-type {\n",
       "        vertical-align: middle;\n",
       "    }\n",
       "\n",
       "    .dataframe tbody tr th {\n",
       "        vertical-align: top;\n",
       "    }\n",
       "\n",
       "    .dataframe thead tr th {\n",
       "        text-align: left;\n",
       "    }\n",
       "\n",
       "    .dataframe thead tr:last-of-type th {\n",
       "        text-align: right;\n",
       "    }\n",
       "</style>\n",
       "<table border=\"1\" class=\"dataframe\">\n",
       "  <thead>\n",
       "    <tr>\n",
       "      <th></th>\n",
       "      <th colspan=\"4\" halign=\"left\">Age</th>\n",
       "      <th colspan=\"4\" halign=\"left\">Fare</th>\n",
       "    </tr>\n",
       "    <tr>\n",
       "      <th></th>\n",
       "      <th>sum</th>\n",
       "      <th>mean</th>\n",
       "      <th>max</th>\n",
       "      <th>min</th>\n",
       "      <th>sum</th>\n",
       "      <th>mean</th>\n",
       "      <th>max</th>\n",
       "      <th>min</th>\n",
       "    </tr>\n",
       "    <tr>\n",
       "      <th>Survived</th>\n",
       "      <th></th>\n",
       "      <th></th>\n",
       "      <th></th>\n",
       "      <th></th>\n",
       "      <th></th>\n",
       "      <th></th>\n",
       "      <th></th>\n",
       "      <th></th>\n",
       "    </tr>\n",
       "  </thead>\n",
       "  <tbody>\n",
       "    <tr>\n",
       "      <th>0</th>\n",
       "      <td>12985.50</td>\n",
       "      <td>30.626179</td>\n",
       "      <td>74.0</td>\n",
       "      <td>1.00</td>\n",
       "      <td>12142.7199</td>\n",
       "      <td>22.117887</td>\n",
       "      <td>263.0000</td>\n",
       "      <td>0.0</td>\n",
       "    </tr>\n",
       "    <tr>\n",
       "      <th>1</th>\n",
       "      <td>8219.67</td>\n",
       "      <td>28.343690</td>\n",
       "      <td>80.0</td>\n",
       "      <td>0.42</td>\n",
       "      <td>16551.2294</td>\n",
       "      <td>48.395408</td>\n",
       "      <td>512.3292</td>\n",
       "      <td>0.0</td>\n",
       "    </tr>\n",
       "  </tbody>\n",
       "</table>\n",
       "</div>"
      ],
      "text/plain": [
       "               Age                               Fare                       \\\n",
       "               sum       mean   max   min         sum       mean       max   \n",
       "Survived                                                                     \n",
       "0         12985.50  30.626179  74.0  1.00  12142.7199  22.117887  263.0000   \n",
       "1          8219.67  28.343690  80.0  0.42  16551.2294  48.395408  512.3292   \n",
       "\n",
       "               \n",
       "          min  \n",
       "Survived       \n",
       "0         0.0  \n",
       "1         0.0  "
      ]
     },
     "execution_count": 39,
     "metadata": {},
     "output_type": "execute_result"
    }
   ],
   "source": [
    "titanic.groupby('Survived')[['Age','Fare']].agg(['sum','mean','max','min'])"
   ]
  },
  {
   "cell_type": "markdown",
   "id": "92f94f3f-aa08-448c-92d6-ca253fdcc68a",
   "metadata": {},
   "source": [
    "오오~\n",
    "이런식으로 리스트를 전달하여, **여러 열에 대해 여러 집계를 한 번에 수행 가능**"
   ]
  },
  {
   "cell_type": "code",
   "execution_count": 42,
   "id": "a730c92a-9204-489d-9138-72654eb42d02",
   "metadata": {},
   "outputs": [
    {
     "data": {
      "text/html": [
       "<div>\n",
       "<style scoped>\n",
       "    .dataframe tbody tr th:only-of-type {\n",
       "        vertical-align: middle;\n",
       "    }\n",
       "\n",
       "    .dataframe tbody tr th {\n",
       "        vertical-align: top;\n",
       "    }\n",
       "\n",
       "    .dataframe thead th {\n",
       "        text-align: right;\n",
       "    }\n",
       "</style>\n",
       "<table border=\"1\" class=\"dataframe\">\n",
       "  <thead>\n",
       "    <tr style=\"text-align: right;\">\n",
       "      <th></th>\n",
       "      <th>Survived</th>\n",
       "      <th>Fare</th>\n",
       "      <th>Age</th>\n",
       "    </tr>\n",
       "  </thead>\n",
       "  <tbody>\n",
       "    <tr>\n",
       "      <th>0</th>\n",
       "      <td>0</td>\n",
       "      <td>22.117887</td>\n",
       "      <td>1.00</td>\n",
       "    </tr>\n",
       "    <tr>\n",
       "      <th>1</th>\n",
       "      <td>1</td>\n",
       "      <td>48.395408</td>\n",
       "      <td>0.42</td>\n",
       "    </tr>\n",
       "  </tbody>\n",
       "</table>\n",
       "</div>"
      ],
      "text/plain": [
       "   Survived       Fare   Age\n",
       "0         0  22.117887  1.00\n",
       "1         1  48.395408  0.42"
      ]
     },
     "execution_count": 42,
     "metadata": {},
     "output_type": "execute_result"
    }
   ],
   "source": [
    "titanic.groupby('Survived', as_index=False).agg({'Fare':'sum','Fare':'mean','Age':'max','Age':'min'})"
   ]
  },
  {
   "cell_type": "markdown",
   "id": "aad3d896-f38a-43ac-8cb0-d38d300005f6",
   "metadata": {},
   "source": [
    "헐.\n",
    "\n",
    "그리고 이런식으로, **여러 열에 대한 집계를 각 열마다 따로, 다른 집계로, 한 번에 수행 가능**"
   ]
  },
  {
   "cell_type": "markdown",
   "id": "6e7ad327-534a-4fdd-883f-e716b33d0617",
   "metadata": {},
   "source": [
    "# 데이터프레임 변경"
   ]
  },
  {
   "cell_type": "markdown",
   "id": "aaee8683-cb47-4965-984f-baa379fe98e9",
   "metadata": {},
   "source": [
    "- 열 이름 변경\n",
    "- 열 추가\n",
    "- 열 삭제\n",
    "- `map`, `cut`"
   ]
  },
  {
   "cell_type": "code",
   "execution_count": 3,
   "id": "9bcac945-dde3-447c-b779-d270d8a809dd",
   "metadata": {},
   "outputs": [],
   "source": [
    "import numpy as np\n",
    "import pandas as pd"
   ]
  },
  {
   "cell_type": "code",
   "execution_count": 5,
   "id": "a1cfc028-02da-4b0f-ac14-7e407ecd8a7b",
   "metadata": {},
   "outputs": [
    {
     "data": {
      "text/html": [
       "<div>\n",
       "<style scoped>\n",
       "    .dataframe tbody tr th:only-of-type {\n",
       "        vertical-align: middle;\n",
       "    }\n",
       "\n",
       "    .dataframe tbody tr th {\n",
       "        vertical-align: top;\n",
       "    }\n",
       "\n",
       "    .dataframe thead th {\n",
       "        text-align: right;\n",
       "    }\n",
       "</style>\n",
       "<table border=\"1\" class=\"dataframe\">\n",
       "  <thead>\n",
       "    <tr style=\"text-align: right;\">\n",
       "      <th></th>\n",
       "      <th>year</th>\n",
       "      <th>household</th>\n",
       "      <th>k_male</th>\n",
       "      <th>k_female</th>\n",
       "      <th>f_male</th>\n",
       "      <th>f_female</th>\n",
       "    </tr>\n",
       "  </thead>\n",
       "  <tbody>\n",
       "    <tr>\n",
       "      <th>0</th>\n",
       "      <td>1981</td>\n",
       "      <td>NaN</td>\n",
       "      <td>4160</td>\n",
       "      <td>4191</td>\n",
       "      <td>NaN</td>\n",
       "      <td>NaN</td>\n",
       "    </tr>\n",
       "    <tr>\n",
       "      <th>1</th>\n",
       "      <td>1982</td>\n",
       "      <td>NaN</td>\n",
       "      <td>4160</td>\n",
       "      <td>4191</td>\n",
       "      <td>NaN</td>\n",
       "      <td>NaN</td>\n",
       "    </tr>\n",
       "    <tr>\n",
       "      <th>2</th>\n",
       "      <td>1983</td>\n",
       "      <td>2116.0</td>\n",
       "      <td>4160</td>\n",
       "      <td>4191</td>\n",
       "      <td>NaN</td>\n",
       "      <td>NaN</td>\n",
       "    </tr>\n",
       "    <tr>\n",
       "      <th>3</th>\n",
       "      <td>1984</td>\n",
       "      <td>2246.0</td>\n",
       "      <td>4160</td>\n",
       "      <td>4191</td>\n",
       "      <td>NaN</td>\n",
       "      <td>NaN</td>\n",
       "    </tr>\n",
       "    <tr>\n",
       "      <th>4</th>\n",
       "      <td>1985</td>\n",
       "      <td>2338.0</td>\n",
       "      <td>4788</td>\n",
       "      <td>4838</td>\n",
       "      <td>7.0</td>\n",
       "      <td>6.0</td>\n",
       "    </tr>\n",
       "  </tbody>\n",
       "</table>\n",
       "</div>"
      ],
      "text/plain": [
       "   year  household  k_male  k_female  f_male  f_female\n",
       "0  1981        NaN    4160      4191     NaN       NaN\n",
       "1  1982        NaN    4160      4191     NaN       NaN\n",
       "2  1983     2116.0    4160      4191     NaN       NaN\n",
       "3  1984     2246.0    4160      4191     NaN       NaN\n",
       "4  1985     2338.0    4788      4838     7.0       6.0"
      ]
     },
     "execution_count": 5,
     "metadata": {},
     "output_type": "execute_result"
    }
   ],
   "source": [
    "path = 'https://raw.githubusercontent.com/DA4BAM/dataset/master/population_sample.csv'\n",
    "pop = pd.read_csv(path)\n",
    "\n",
    "pop.head()"
   ]
  },
  {
   "cell_type": "code",
   "execution_count": 6,
   "id": "d369f6c0-30f6-47e5-8771-15b2d4fc19f2",
   "metadata": {},
   "outputs": [
    {
     "data": {
      "text/html": [
       "<div>\n",
       "<style scoped>\n",
       "    .dataframe tbody tr th:only-of-type {\n",
       "        vertical-align: middle;\n",
       "    }\n",
       "\n",
       "    .dataframe tbody tr th {\n",
       "        vertical-align: top;\n",
       "    }\n",
       "\n",
       "    .dataframe thead th {\n",
       "        text-align: right;\n",
       "    }\n",
       "</style>\n",
       "<table border=\"1\" class=\"dataframe\">\n",
       "  <thead>\n",
       "    <tr style=\"text-align: right;\">\n",
       "      <th></th>\n",
       "      <th>year</th>\n",
       "      <th>Hhold</th>\n",
       "      <th>k_male</th>\n",
       "      <th>k_female</th>\n",
       "      <th>f_male</th>\n",
       "      <th>f_female</th>\n",
       "    </tr>\n",
       "  </thead>\n",
       "  <tbody>\n",
       "    <tr>\n",
       "      <th>0</th>\n",
       "      <td>1981</td>\n",
       "      <td>NaN</td>\n",
       "      <td>4160</td>\n",
       "      <td>4191</td>\n",
       "      <td>NaN</td>\n",
       "      <td>NaN</td>\n",
       "    </tr>\n",
       "    <tr>\n",
       "      <th>1</th>\n",
       "      <td>1982</td>\n",
       "      <td>NaN</td>\n",
       "      <td>4160</td>\n",
       "      <td>4191</td>\n",
       "      <td>NaN</td>\n",
       "      <td>NaN</td>\n",
       "    </tr>\n",
       "    <tr>\n",
       "      <th>2</th>\n",
       "      <td>1983</td>\n",
       "      <td>2116.0</td>\n",
       "      <td>4160</td>\n",
       "      <td>4191</td>\n",
       "      <td>NaN</td>\n",
       "      <td>NaN</td>\n",
       "    </tr>\n",
       "    <tr>\n",
       "      <th>3</th>\n",
       "      <td>1984</td>\n",
       "      <td>2246.0</td>\n",
       "      <td>4160</td>\n",
       "      <td>4191</td>\n",
       "      <td>NaN</td>\n",
       "      <td>NaN</td>\n",
       "    </tr>\n",
       "    <tr>\n",
       "      <th>4</th>\n",
       "      <td>1985</td>\n",
       "      <td>2338.0</td>\n",
       "      <td>4788</td>\n",
       "      <td>4838</td>\n",
       "      <td>7.0</td>\n",
       "      <td>6.0</td>\n",
       "    </tr>\n",
       "  </tbody>\n",
       "</table>\n",
       "</div>"
      ],
      "text/plain": [
       "   year   Hhold  k_male  k_female  f_male  f_female\n",
       "0  1981     NaN    4160      4191     NaN       NaN\n",
       "1  1982     NaN    4160      4191     NaN       NaN\n",
       "2  1983  2116.0    4160      4191     NaN       NaN\n",
       "3  1984  2246.0    4160      4191     NaN       NaN\n",
       "4  1985  2338.0    4788      4838     7.0       6.0"
      ]
     },
     "execution_count": 6,
     "metadata": {},
     "output_type": "execute_result"
    }
   ],
   "source": [
    "pop.columns = ['year','Hhold','k_male','k_female','f_male','f_female']\n",
    "\n",
    "pop.head()"
   ]
  },
  {
   "cell_type": "markdown",
   "id": "3ef79905-32a5-453f-b31f-cf00778b93a1",
   "metadata": {},
   "source": [
    "모든 열의 이름을 변경했어요.\n",
    "\n",
    "기존 열의 개수만큼 써줘야 겠죠?"
   ]
  },
  {
   "cell_type": "code",
   "execution_count": 7,
   "id": "aa214dc7-53ca-4212-a648-7f49d8e484d2",
   "metadata": {},
   "outputs": [
    {
     "data": {
      "text/html": [
       "<div>\n",
       "<style scoped>\n",
       "    .dataframe tbody tr th:only-of-type {\n",
       "        vertical-align: middle;\n",
       "    }\n",
       "\n",
       "    .dataframe tbody tr th {\n",
       "        vertical-align: top;\n",
       "    }\n",
       "\n",
       "    .dataframe thead th {\n",
       "        text-align: right;\n",
       "    }\n",
       "</style>\n",
       "<table border=\"1\" class=\"dataframe\">\n",
       "  <thead>\n",
       "    <tr style=\"text-align: right;\">\n",
       "      <th></th>\n",
       "      <th>year</th>\n",
       "      <th>household</th>\n",
       "      <th>k_male</th>\n",
       "      <th>k_female</th>\n",
       "      <th>f_male</th>\n",
       "      <th>f_female</th>\n",
       "    </tr>\n",
       "  </thead>\n",
       "  <tbody>\n",
       "    <tr>\n",
       "      <th>0</th>\n",
       "      <td>1981</td>\n",
       "      <td>NaN</td>\n",
       "      <td>4160</td>\n",
       "      <td>4191</td>\n",
       "      <td>NaN</td>\n",
       "      <td>NaN</td>\n",
       "    </tr>\n",
       "    <tr>\n",
       "      <th>1</th>\n",
       "      <td>1982</td>\n",
       "      <td>NaN</td>\n",
       "      <td>4160</td>\n",
       "      <td>4191</td>\n",
       "      <td>NaN</td>\n",
       "      <td>NaN</td>\n",
       "    </tr>\n",
       "    <tr>\n",
       "      <th>2</th>\n",
       "      <td>1983</td>\n",
       "      <td>2116.0</td>\n",
       "      <td>4160</td>\n",
       "      <td>4191</td>\n",
       "      <td>NaN</td>\n",
       "      <td>NaN</td>\n",
       "    </tr>\n",
       "    <tr>\n",
       "      <th>3</th>\n",
       "      <td>1984</td>\n",
       "      <td>2246.0</td>\n",
       "      <td>4160</td>\n",
       "      <td>4191</td>\n",
       "      <td>NaN</td>\n",
       "      <td>NaN</td>\n",
       "    </tr>\n",
       "    <tr>\n",
       "      <th>4</th>\n",
       "      <td>1985</td>\n",
       "      <td>2338.0</td>\n",
       "      <td>4788</td>\n",
       "      <td>4838</td>\n",
       "      <td>7.0</td>\n",
       "      <td>6.0</td>\n",
       "    </tr>\n",
       "  </tbody>\n",
       "</table>\n",
       "</div>"
      ],
      "text/plain": [
       "   year  household  k_male  k_female  f_male  f_female\n",
       "0  1981        NaN    4160      4191     NaN       NaN\n",
       "1  1982        NaN    4160      4191     NaN       NaN\n",
       "2  1983     2116.0    4160      4191     NaN       NaN\n",
       "3  1984     2246.0    4160      4191     NaN       NaN\n",
       "4  1985     2338.0    4788      4838     7.0       6.0"
      ]
     },
     "execution_count": 7,
     "metadata": {},
     "output_type": "execute_result"
    }
   ],
   "source": [
    "pop.rename(columns={\n",
    "    'Hhold':'household'\n",
    "}, inplace=True)\n",
    "\n",
    "pop.head()"
   ]
  },
  {
   "cell_type": "markdown",
   "id": "e6be545f-4b9f-43f4-a5a8-296eeab1807d",
   "metadata": {},
   "source": [
    "`rename()` 메소드를 사용하여, 지정한 열의 이름만 변경했어요."
   ]
  },
  {
   "cell_type": "code",
   "execution_count": 13,
   "id": "9f6aa481-2b9e-4456-b77c-5b59b7f5456d",
   "metadata": {},
   "outputs": [
    {
     "data": {
      "text/html": [
       "<div>\n",
       "<style scoped>\n",
       "    .dataframe tbody tr th:only-of-type {\n",
       "        vertical-align: middle;\n",
       "    }\n",
       "\n",
       "    .dataframe tbody tr th {\n",
       "        vertical-align: top;\n",
       "    }\n",
       "\n",
       "    .dataframe thead th {\n",
       "        text-align: right;\n",
       "    }\n",
       "</style>\n",
       "<table border=\"1\" class=\"dataframe\">\n",
       "  <thead>\n",
       "    <tr style=\"text-align: right;\">\n",
       "      <th></th>\n",
       "      <th>year</th>\n",
       "      <th>household</th>\n",
       "      <th>k_male</th>\n",
       "      <th>k_female</th>\n",
       "      <th>f_male</th>\n",
       "      <th>f_female</th>\n",
       "      <th>f_total</th>\n",
       "      <th>k_total</th>\n",
       "    </tr>\n",
       "  </thead>\n",
       "  <tbody>\n",
       "    <tr>\n",
       "      <th>0</th>\n",
       "      <td>1981</td>\n",
       "      <td>NaN</td>\n",
       "      <td>4160</td>\n",
       "      <td>4191</td>\n",
       "      <td>NaN</td>\n",
       "      <td>NaN</td>\n",
       "      <td>NaN</td>\n",
       "      <td>8351</td>\n",
       "    </tr>\n",
       "    <tr>\n",
       "      <th>1</th>\n",
       "      <td>1982</td>\n",
       "      <td>NaN</td>\n",
       "      <td>4160</td>\n",
       "      <td>4191</td>\n",
       "      <td>NaN</td>\n",
       "      <td>NaN</td>\n",
       "      <td>NaN</td>\n",
       "      <td>8351</td>\n",
       "    </tr>\n",
       "    <tr>\n",
       "      <th>2</th>\n",
       "      <td>1983</td>\n",
       "      <td>2116.0</td>\n",
       "      <td>4160</td>\n",
       "      <td>4191</td>\n",
       "      <td>NaN</td>\n",
       "      <td>NaN</td>\n",
       "      <td>NaN</td>\n",
       "      <td>8351</td>\n",
       "    </tr>\n",
       "    <tr>\n",
       "      <th>3</th>\n",
       "      <td>1984</td>\n",
       "      <td>2246.0</td>\n",
       "      <td>4160</td>\n",
       "      <td>4191</td>\n",
       "      <td>NaN</td>\n",
       "      <td>NaN</td>\n",
       "      <td>NaN</td>\n",
       "      <td>8351</td>\n",
       "    </tr>\n",
       "    <tr>\n",
       "      <th>4</th>\n",
       "      <td>1985</td>\n",
       "      <td>2338.0</td>\n",
       "      <td>4788</td>\n",
       "      <td>4838</td>\n",
       "      <td>7.0</td>\n",
       "      <td>6.0</td>\n",
       "      <td>13.0</td>\n",
       "      <td>9626</td>\n",
       "    </tr>\n",
       "  </tbody>\n",
       "</table>\n",
       "</div>"
      ],
      "text/plain": [
       "   year  household  k_male  k_female  f_male  f_female  f_total  k_total\n",
       "0  1981        NaN    4160      4191     NaN       NaN      NaN     8351\n",
       "1  1982        NaN    4160      4191     NaN       NaN      NaN     8351\n",
       "2  1983     2116.0    4160      4191     NaN       NaN      NaN     8351\n",
       "3  1984     2246.0    4160      4191     NaN       NaN      NaN     8351\n",
       "4  1985     2338.0    4788      4838     7.0       6.0     13.0     9626"
      ]
     },
     "execution_count": 13,
     "metadata": {},
     "output_type": "execute_result"
    }
   ],
   "source": [
    "pop['k_total'] = pop['k_male'] + pop['k_female']\n",
    "pop['f_total'] = pop['f_male'] + pop['f_female']\n",
    "\n",
    "pop.head()"
   ]
  },
  {
   "cell_type": "markdown",
   "id": "2a4d04bb-c55a-47e2-b8b9-291b377c0eb4",
   "metadata": {},
   "source": [
    "기존에 없던 열에 냅다 데이터를 넣어버리면, 그 열이 추가돼요\n",
    "\n",
    "`insert()` 메소드를 사용하면, 원하는 위치에 열을 추가할 수도 있는데요..\n",
    "\n",
    "굳이 그러진 않아도 돼요. (궁금해지면 따로 찾아봐야지)"
   ]
  },
  {
   "cell_type": "code",
   "execution_count": 14,
   "id": "ba3ef741-387e-49a5-8cf7-1ddcea624671",
   "metadata": {},
   "outputs": [
    {
     "data": {
      "text/html": [
       "<div>\n",
       "<style scoped>\n",
       "    .dataframe tbody tr th:only-of-type {\n",
       "        vertical-align: middle;\n",
       "    }\n",
       "\n",
       "    .dataframe tbody tr th {\n",
       "        vertical-align: top;\n",
       "    }\n",
       "\n",
       "    .dataframe thead th {\n",
       "        text-align: right;\n",
       "    }\n",
       "</style>\n",
       "<table border=\"1\" class=\"dataframe\">\n",
       "  <thead>\n",
       "    <tr style=\"text-align: right;\">\n",
       "      <th></th>\n",
       "      <th>year</th>\n",
       "      <th>household</th>\n",
       "      <th>k_male</th>\n",
       "      <th>k_female</th>\n",
       "      <th>f_male</th>\n",
       "      <th>f_female</th>\n",
       "    </tr>\n",
       "  </thead>\n",
       "  <tbody>\n",
       "    <tr>\n",
       "      <th>0</th>\n",
       "      <td>1981</td>\n",
       "      <td>NaN</td>\n",
       "      <td>4160</td>\n",
       "      <td>4191</td>\n",
       "      <td>NaN</td>\n",
       "      <td>NaN</td>\n",
       "    </tr>\n",
       "    <tr>\n",
       "      <th>1</th>\n",
       "      <td>1982</td>\n",
       "      <td>NaN</td>\n",
       "      <td>4160</td>\n",
       "      <td>4191</td>\n",
       "      <td>NaN</td>\n",
       "      <td>NaN</td>\n",
       "    </tr>\n",
       "    <tr>\n",
       "      <th>2</th>\n",
       "      <td>1983</td>\n",
       "      <td>2116.0</td>\n",
       "      <td>4160</td>\n",
       "      <td>4191</td>\n",
       "      <td>NaN</td>\n",
       "      <td>NaN</td>\n",
       "    </tr>\n",
       "    <tr>\n",
       "      <th>3</th>\n",
       "      <td>1984</td>\n",
       "      <td>2246.0</td>\n",
       "      <td>4160</td>\n",
       "      <td>4191</td>\n",
       "      <td>NaN</td>\n",
       "      <td>NaN</td>\n",
       "    </tr>\n",
       "    <tr>\n",
       "      <th>4</th>\n",
       "      <td>1985</td>\n",
       "      <td>2338.0</td>\n",
       "      <td>4788</td>\n",
       "      <td>4838</td>\n",
       "      <td>7.0</td>\n",
       "      <td>6.0</td>\n",
       "    </tr>\n",
       "  </tbody>\n",
       "</table>\n",
       "</div>"
      ],
      "text/plain": [
       "   year  household  k_male  k_female  f_male  f_female\n",
       "0  1981        NaN    4160      4191     NaN       NaN\n",
       "1  1982        NaN    4160      4191     NaN       NaN\n",
       "2  1983     2116.0    4160      4191     NaN       NaN\n",
       "3  1984     2246.0    4160      4191     NaN       NaN\n",
       "4  1985     2338.0    4788      4838     7.0       6.0"
      ]
     },
     "execution_count": 14,
     "metadata": {},
     "output_type": "execute_result"
    }
   ],
   "source": [
    "pop.drop(['k_total','f_total'], axis=1, inplace=True) # axis=1 : 열 삭제\n",
    "# []에 넣어서 리스트 형태로, 여러 개 를 삭제할 수도 있군~\n",
    "\n",
    "pop.head()"
   ]
  },
  {
   "cell_type": "markdown",
   "id": "f64ef39d-9c84-4609-8bc9-fd7b16eb76b2",
   "metadata": {},
   "source": [
    "`drop()` 메소드를 사용해 열 삭제\n",
    "- `axis=0`: 행 삭제(기본 값)\n",
    "- `axis=1`: 열 삭제\n",
    "- `inplace=False`: 삭제한 것처럼 보여주세요\n",
    "- `inplace=True`: 진짜 삭제해 주세요\n",
    "    - 아무래도 inplace 라는 것은 그런 것이죠"
   ]
  },
  {
   "cell_type": "markdown",
   "id": "38f90b30-e9c2-4374-b5db-52c66df708e4",
   "metadata": {},
   "source": [
    "값 변경 같은 경우에도\n",
    "\n",
    "열 이름 지정한 다음에 `= ~~~` 이런 식으로 냅다 대입하면 되더군요.\n",
    "\n",
    "아니면 `.loc[]`를 이용해 조건에 의한 값 변경을 꾀해도 좋구요.\n",
    "\n",
    "조건에 의한 값 변경의 방법으로 `where()` 메소드를 이용하는 방법도 있습니다.path = 'https://raw.githubusercontent.com/DA4BAM/dataset/master/titanic_simple.csv'\n",
    "titanic = pd.read_csv(path)\n",
    "\n",
    "titanic.head()"
   ]
  },
  {
   "cell_type": "code",
   "execution_count": 23,
   "id": "eb27795e-308f-4b1c-b2e8-98958129ffc8",
   "metadata": {},
   "outputs": [],
   "source": [
    "path = 'https://raw.githubusercontent.com/DA4BAM/dataset/master/titanic_simple.csv'\n",
    "titanic = pd.read_csv(path)"
   ]
  },
  {
   "cell_type": "code",
   "execution_count": 24,
   "id": "fa6c7524-35f1-491a-abaa-a5c00b6199b5",
   "metadata": {},
   "outputs": [
    {
     "data": {
      "text/html": [
       "<div>\n",
       "<style scoped>\n",
       "    .dataframe tbody tr th:only-of-type {\n",
       "        vertical-align: middle;\n",
       "    }\n",
       "\n",
       "    .dataframe tbody tr th {\n",
       "        vertical-align: top;\n",
       "    }\n",
       "\n",
       "    .dataframe thead th {\n",
       "        text-align: right;\n",
       "    }\n",
       "</style>\n",
       "<table border=\"1\" class=\"dataframe\">\n",
       "  <thead>\n",
       "    <tr style=\"text-align: right;\">\n",
       "      <th></th>\n",
       "      <th>PassengerId</th>\n",
       "      <th>Survived</th>\n",
       "      <th>Pclass</th>\n",
       "      <th>Name</th>\n",
       "      <th>Sex</th>\n",
       "      <th>Age</th>\n",
       "      <th>Fare</th>\n",
       "      <th>Embarked</th>\n",
       "    </tr>\n",
       "  </thead>\n",
       "  <tbody>\n",
       "    <tr>\n",
       "      <th>0</th>\n",
       "      <td>1</td>\n",
       "      <td>0</td>\n",
       "      <td>3</td>\n",
       "      <td>Braund, Mr. Owen Harris</td>\n",
       "      <td>male</td>\n",
       "      <td>22.0</td>\n",
       "      <td>7.2500</td>\n",
       "      <td>Southampton</td>\n",
       "    </tr>\n",
       "    <tr>\n",
       "      <th>1</th>\n",
       "      <td>2</td>\n",
       "      <td>1</td>\n",
       "      <td>1</td>\n",
       "      <td>Cumings, Mrs. John Bradley (Florence Briggs Th...</td>\n",
       "      <td>female</td>\n",
       "      <td>38.0</td>\n",
       "      <td>71.2833</td>\n",
       "      <td>Cherbourg</td>\n",
       "    </tr>\n",
       "    <tr>\n",
       "      <th>2</th>\n",
       "      <td>3</td>\n",
       "      <td>1</td>\n",
       "      <td>3</td>\n",
       "      <td>Heikkinen, Miss. Laina</td>\n",
       "      <td>female</td>\n",
       "      <td>26.0</td>\n",
       "      <td>7.9250</td>\n",
       "      <td>Southampton</td>\n",
       "    </tr>\n",
       "    <tr>\n",
       "      <th>3</th>\n",
       "      <td>4</td>\n",
       "      <td>1</td>\n",
       "      <td>1</td>\n",
       "      <td>Futrelle, Mrs. Jacques Heath (Lily May Peel)</td>\n",
       "      <td>female</td>\n",
       "      <td>35.0</td>\n",
       "      <td>53.1000</td>\n",
       "      <td>Southampton</td>\n",
       "    </tr>\n",
       "    <tr>\n",
       "      <th>4</th>\n",
       "      <td>5</td>\n",
       "      <td>0</td>\n",
       "      <td>3</td>\n",
       "      <td>Allen, Mr. William Henry</td>\n",
       "      <td>male</td>\n",
       "      <td>35.0</td>\n",
       "      <td>8.0500</td>\n",
       "      <td>Southampton</td>\n",
       "    </tr>\n",
       "  </tbody>\n",
       "</table>\n",
       "</div>"
      ],
      "text/plain": [
       "   PassengerId  Survived  Pclass  \\\n",
       "0            1         0       3   \n",
       "1            2         1       1   \n",
       "2            3         1       3   \n",
       "3            4         1       1   \n",
       "4            5         0       3   \n",
       "\n",
       "                                                Name     Sex   Age     Fare  \\\n",
       "0                            Braund, Mr. Owen Harris    male  22.0   7.2500   \n",
       "1  Cumings, Mrs. John Bradley (Florence Briggs Th...  female  38.0  71.2833   \n",
       "2                             Heikkinen, Miss. Laina  female  26.0   7.9250   \n",
       "3       Futrelle, Mrs. Jacques Heath (Lily May Peel)  female  35.0  53.1000   \n",
       "4                           Allen, Mr. William Henry    male  35.0   8.0500   \n",
       "\n",
       "      Embarked  \n",
       "0  Southampton  \n",
       "1    Cherbourg  \n",
       "2  Southampton  \n",
       "3  Southampton  \n",
       "4  Southampton  "
      ]
     },
     "metadata": {},
     "output_type": "display_data"
    },
    {
     "data": {
      "text/html": [
       "<div>\n",
       "<style scoped>\n",
       "    .dataframe tbody tr th:only-of-type {\n",
       "        vertical-align: middle;\n",
       "    }\n",
       "\n",
       "    .dataframe tbody tr th {\n",
       "        vertical-align: top;\n",
       "    }\n",
       "\n",
       "    .dataframe thead th {\n",
       "        text-align: right;\n",
       "    }\n",
       "</style>\n",
       "<table border=\"1\" class=\"dataframe\">\n",
       "  <thead>\n",
       "    <tr style=\"text-align: right;\">\n",
       "      <th></th>\n",
       "      <th>PassengerId</th>\n",
       "      <th>Survived</th>\n",
       "      <th>Pclass</th>\n",
       "      <th>Name</th>\n",
       "      <th>Sex</th>\n",
       "      <th>Age</th>\n",
       "      <th>Fare</th>\n",
       "      <th>Embarked</th>\n",
       "    </tr>\n",
       "  </thead>\n",
       "  <tbody>\n",
       "    <tr>\n",
       "      <th>0</th>\n",
       "      <td>1</td>\n",
       "      <td>No</td>\n",
       "      <td>3</td>\n",
       "      <td>Braund, Mr. Owen Harris</td>\n",
       "      <td>male</td>\n",
       "      <td>22.0</td>\n",
       "      <td>7.2500</td>\n",
       "      <td>Southampton</td>\n",
       "    </tr>\n",
       "    <tr>\n",
       "      <th>1</th>\n",
       "      <td>2</td>\n",
       "      <td>Yes</td>\n",
       "      <td>1</td>\n",
       "      <td>Cumings, Mrs. John Bradley (Florence Briggs Th...</td>\n",
       "      <td>female</td>\n",
       "      <td>38.0</td>\n",
       "      <td>71.2833</td>\n",
       "      <td>Cherbourg</td>\n",
       "    </tr>\n",
       "    <tr>\n",
       "      <th>2</th>\n",
       "      <td>3</td>\n",
       "      <td>Yes</td>\n",
       "      <td>3</td>\n",
       "      <td>Heikkinen, Miss. Laina</td>\n",
       "      <td>female</td>\n",
       "      <td>26.0</td>\n",
       "      <td>7.9250</td>\n",
       "      <td>Southampton</td>\n",
       "    </tr>\n",
       "    <tr>\n",
       "      <th>3</th>\n",
       "      <td>4</td>\n",
       "      <td>Yes</td>\n",
       "      <td>1</td>\n",
       "      <td>Futrelle, Mrs. Jacques Heath (Lily May Peel)</td>\n",
       "      <td>female</td>\n",
       "      <td>35.0</td>\n",
       "      <td>53.1000</td>\n",
       "      <td>Southampton</td>\n",
       "    </tr>\n",
       "    <tr>\n",
       "      <th>4</th>\n",
       "      <td>5</td>\n",
       "      <td>No</td>\n",
       "      <td>3</td>\n",
       "      <td>Allen, Mr. William Henry</td>\n",
       "      <td>male</td>\n",
       "      <td>35.0</td>\n",
       "      <td>8.0500</td>\n",
       "      <td>Southampton</td>\n",
       "    </tr>\n",
       "  </tbody>\n",
       "</table>\n",
       "</div>"
      ],
      "text/plain": [
       "   PassengerId Survived  Pclass  \\\n",
       "0            1       No       3   \n",
       "1            2      Yes       1   \n",
       "2            3      Yes       3   \n",
       "3            4      Yes       1   \n",
       "4            5       No       3   \n",
       "\n",
       "                                                Name     Sex   Age     Fare  \\\n",
       "0                            Braund, Mr. Owen Harris    male  22.0   7.2500   \n",
       "1  Cumings, Mrs. John Bradley (Florence Briggs Th...  female  38.0  71.2833   \n",
       "2                             Heikkinen, Miss. Laina  female  26.0   7.9250   \n",
       "3       Futrelle, Mrs. Jacques Heath (Lily May Peel)  female  35.0  53.1000   \n",
       "4                           Allen, Mr. William Henry    male  35.0   8.0500   \n",
       "\n",
       "      Embarked  \n",
       "0  Southampton  \n",
       "1    Cherbourg  \n",
       "2  Southampton  \n",
       "3  Southampton  \n",
       "4  Southampton  "
      ]
     },
     "metadata": {},
     "output_type": "display_data"
    }
   ],
   "source": [
    "display(titanic.head())\n",
    "\n",
    "titanic['Survived'] = titanic['Survived'].map({\n",
    "    1: 'Yes',\n",
    "    0: 'No',\n",
    "})\n",
    "\n",
    "display(titanic.head())"
   ]
  },
  {
   "cell_type": "markdown",
   "id": "0bd14611-a026-4fd2-9134-53812a3536c6",
   "metadata": {},
   "source": [
    "값 변경에는 `.map()`으로 기존 값에 매핑하여 변경하는 것도 가능합니다.."
   ]
  },
  {
   "cell_type": "code",
   "execution_count": 27,
   "id": "c9a7d41a-7922-4a65-876a-18f84c546b2c",
   "metadata": {},
   "outputs": [
    {
     "data": {
      "text/html": [
       "<div>\n",
       "<style scoped>\n",
       "    .dataframe tbody tr th:only-of-type {\n",
       "        vertical-align: middle;\n",
       "    }\n",
       "\n",
       "    .dataframe tbody tr th {\n",
       "        vertical-align: top;\n",
       "    }\n",
       "\n",
       "    .dataframe thead th {\n",
       "        text-align: right;\n",
       "    }\n",
       "</style>\n",
       "<table border=\"1\" class=\"dataframe\">\n",
       "  <thead>\n",
       "    <tr style=\"text-align: right;\">\n",
       "      <th></th>\n",
       "      <th>PassengerId</th>\n",
       "      <th>Survived</th>\n",
       "      <th>Pclass</th>\n",
       "      <th>Name</th>\n",
       "      <th>Sex</th>\n",
       "      <th>Age</th>\n",
       "      <th>Fare</th>\n",
       "      <th>Embarked</th>\n",
       "    </tr>\n",
       "  </thead>\n",
       "  <tbody>\n",
       "    <tr>\n",
       "      <th>0</th>\n",
       "      <td>1</td>\n",
       "      <td>No</td>\n",
       "      <td>3</td>\n",
       "      <td>Braund, Mr. Owen Harris</td>\n",
       "      <td>male</td>\n",
       "      <td>20대</td>\n",
       "      <td>7.2500</td>\n",
       "      <td>Southampton</td>\n",
       "    </tr>\n",
       "    <tr>\n",
       "      <th>1</th>\n",
       "      <td>2</td>\n",
       "      <td>Yes</td>\n",
       "      <td>1</td>\n",
       "      <td>Cumings, Mrs. John Bradley (Florence Briggs Th...</td>\n",
       "      <td>female</td>\n",
       "      <td>40대</td>\n",
       "      <td>71.2833</td>\n",
       "      <td>Cherbourg</td>\n",
       "    </tr>\n",
       "    <tr>\n",
       "      <th>2</th>\n",
       "      <td>3</td>\n",
       "      <td>Yes</td>\n",
       "      <td>3</td>\n",
       "      <td>Heikkinen, Miss. Laina</td>\n",
       "      <td>female</td>\n",
       "      <td>30대</td>\n",
       "      <td>7.9250</td>\n",
       "      <td>Southampton</td>\n",
       "    </tr>\n",
       "    <tr>\n",
       "      <th>3</th>\n",
       "      <td>4</td>\n",
       "      <td>Yes</td>\n",
       "      <td>1</td>\n",
       "      <td>Futrelle, Mrs. Jacques Heath (Lily May Peel)</td>\n",
       "      <td>female</td>\n",
       "      <td>40대</td>\n",
       "      <td>53.1000</td>\n",
       "      <td>Southampton</td>\n",
       "    </tr>\n",
       "    <tr>\n",
       "      <th>4</th>\n",
       "      <td>5</td>\n",
       "      <td>No</td>\n",
       "      <td>3</td>\n",
       "      <td>Allen, Mr. William Henry</td>\n",
       "      <td>male</td>\n",
       "      <td>40대</td>\n",
       "      <td>8.0500</td>\n",
       "      <td>Southampton</td>\n",
       "    </tr>\n",
       "  </tbody>\n",
       "</table>\n",
       "</div>"
      ],
      "text/plain": [
       "   PassengerId Survived  Pclass  \\\n",
       "0            1       No       3   \n",
       "1            2      Yes       1   \n",
       "2            3      Yes       3   \n",
       "3            4      Yes       1   \n",
       "4            5       No       3   \n",
       "\n",
       "                                                Name     Sex  Age     Fare  \\\n",
       "0                            Braund, Mr. Owen Harris    male  20대   7.2500   \n",
       "1  Cumings, Mrs. John Bradley (Florence Briggs Th...  female  40대  71.2833   \n",
       "2                             Heikkinen, Miss. Laina  female  30대   7.9250   \n",
       "3       Futrelle, Mrs. Jacques Heath (Lily May Peel)  female  40대  53.1000   \n",
       "4                           Allen, Mr. William Henry    male  40대   8.0500   \n",
       "\n",
       "      Embarked  \n",
       "0  Southampton  \n",
       "1    Cherbourg  \n",
       "2  Southampton  \n",
       "3  Southampton  \n",
       "4  Southampton  "
      ]
     },
     "execution_count": 27,
     "metadata": {},
     "output_type": "execute_result"
    }
   ],
   "source": [
    "titanic['Age'] = pd.cut(titanic['Age'], 10, labels=['10세 미만','10대','20대','30대','40대','50대','60대','70대','80대','90대'])\n",
    "titanic.head()"
   ]
  },
  {
   "cell_type": "markdown",
   "id": "3de57e6f-414a-41e8-83db-4ae58f8effbd",
   "metadata": {},
   "source": [
    "`Age` 주목!\n",
    "\n",
    "숫자형 -> 범주형 변수로 변환할 때 `cut()`"
   ]
  },
  {
   "cell_type": "markdown",
   "id": "eab20303-da3e-4358-a437-a374f5a0f7a7",
   "metadata": {},
   "source": [
    "# 데이터프레임 결합"
   ]
  },
  {
   "cell_type": "markdown",
   "id": "d26ec513-2ebd-4649-af33-a3f40f9cca81",
   "metadata": {
    "tags": []
   },
   "source": [
    "- pd.concat()\n",
    "    - 매핑 기준: 인덱스(행), 칼럼이름(열)\n",
    "    - `axis=0`: 위, 아래로 붙여라. 행 방향으로 붙여라. (칼럼 이름 기준)\n",
    "    - `axis=1`: 옆으로 붙여라. 열 방향으로 붙여라. (행 인덱스 기준)\n",
    "- pd.merge()\n",
    "    - 매핑 기준: 특정 칼럼(key)의 값 기준으로 결합\n",
    "    - 데이터베이스의 `join`과 같음\n",
    "        - `outer`, `inner`, `left`, `right`"
   ]
  },
  {
   "cell_type": "markdown",
   "id": "6024d460-e79c-4445-bb00-07e2699ebbbe",
   "metadata": {},
   "source": [
    "```python\n",
    "dataframe.pivot(index, column, values)\n",
    "```"
   ]
  },
  {
   "attachments": {
    "bbf6a39a-ff5e-42bd-9fb4-9c1a098f2c55.png": {
     "image/png": "[encoded data removed]"
    }
   },
   "cell_type": "markdown",
   "id": "25d13d45-f4a4-48f5-9e46-e33d217bb366",
   "metadata": {},
   "source": [
    "`pivot()` 메소드를 이용하여, 집계된 데이터를 재구성 할 수도 있다.\n",
    "\n",
    "피벗이 뭘까..\n",
    "\n",
    "언제 어떻게 잘 쓸 수 있을지는, 추후 훈련 해보면서 알 수 있을 듯?\n",
    "\n",
    "아무튼, 일단 `groupby`로 집계를 한 다음에, 냅다 `pivot`도 시켜보면 아름다워질 것 같다.\n",
    "\n",
    "![image.png](attachment:bbf6a39a-ff5e-42bd-9fb4-9c1a098f2c55.png)"
   ]
  },
  {
   "cell_type": "markdown",
   "id": "9bf24548-fec5-4f46-88ff-198ed5d1d2f5",
   "metadata": {},
   "source": [
    "# 시계열 데이터 처리"
   ]
  },
  {
   "cell_type": "code",
   "execution_count": 1,
   "id": "af1597c2-9b0e-44b6-b230-ae32f7719592",
   "metadata": {},
   "outputs": [],
   "source": [
    "import pandas as pd\n",
    "import numpy as np\n",
    "\n",
    "import matplotlib.pyplot as plt\n",
    "import seaborn as sns"
   ]
  },
  {
   "cell_type": "code",
   "execution_count": 2,
   "id": "171cd4ec-216c-4402-9704-11ee0a387a81",
   "metadata": {},
   "outputs": [],
   "source": [
    "sales = pd.read_csv(\"https://raw.githubusercontent.com/DA4BAM/dataset/master/ts_sales_simple.csv\")\n",
    "products = pd.read_csv(\"https://raw.githubusercontent.com/DA4BAM/dataset/master/ts_product_master.csv\")"
   ]
  },
  {
   "cell_type": "code",
   "execution_count": 3,
   "id": "b4a5677a-b9e2-4e9d-b316-1cbf82e6dfb5",
   "metadata": {},
   "outputs": [],
   "source": [
    "# 판매액 계산하기\n",
    "temp = pd.merge(sales, products)\n",
    "temp['Amt' ] = temp['Qty'] * temp['Price']\n",
    "temp['Amt'] = (temp['Amt']/1000).round()  # 단위 1000달러\n",
    "\n",
    "# 집계\n",
    "data1 = temp.groupby(['Date', 'Category'], as_index = False)['Amt'].sum()\n",
    "data2 = temp.groupby(['Date'], as_index = False)['Amt'].sum()\n",
    "\n",
    "# 피봇\n",
    "data11 = data1.pivot('Date', 'Category', 'Amt').reset_index()\n",
    "\n",
    "# 합치기\n",
    "data = pd.merge(data2, data11)"
   ]
  },
  {
   "cell_type": "code",
   "execution_count": 5,
   "id": "30b6f446-3702-4fa9-86af-7209bf02298c",
   "metadata": {},
   "outputs": [
    {
     "data": {
      "text/html": [
       "<div>\n",
       "<style scoped>\n",
       "    .dataframe tbody tr th:only-of-type {\n",
       "        vertical-align: middle;\n",
       "    }\n",
       "\n",
       "    .dataframe tbody tr th {\n",
       "        vertical-align: top;\n",
       "    }\n",
       "\n",
       "    .dataframe thead th {\n",
       "        text-align: right;\n",
       "    }\n",
       "</style>\n",
       "<table border=\"1\" class=\"dataframe\">\n",
       "  <thead>\n",
       "    <tr style=\"text-align: right;\">\n",
       "      <th></th>\n",
       "      <th>Order_ID</th>\n",
       "      <th>Date</th>\n",
       "      <th>Store_ID</th>\n",
       "      <th>Qty</th>\n",
       "      <th>Product_ID</th>\n",
       "    </tr>\n",
       "  </thead>\n",
       "  <tbody>\n",
       "    <tr>\n",
       "      <th>0</th>\n",
       "      <td>3</td>\n",
       "      <td>2013-01-01</td>\n",
       "      <td>1</td>\n",
       "      <td>0.0</td>\n",
       "      <td>3</td>\n",
       "    </tr>\n",
       "    <tr>\n",
       "      <th>1</th>\n",
       "      <td>5</td>\n",
       "      <td>2013-01-01</td>\n",
       "      <td>1</td>\n",
       "      <td>0.0</td>\n",
       "      <td>5</td>\n",
       "    </tr>\n",
       "    <tr>\n",
       "      <th>2</th>\n",
       "      <td>7</td>\n",
       "      <td>2013-01-01</td>\n",
       "      <td>1</td>\n",
       "      <td>0.0</td>\n",
       "      <td>7</td>\n",
       "    </tr>\n",
       "    <tr>\n",
       "      <th>3</th>\n",
       "      <td>8</td>\n",
       "      <td>2013-01-01</td>\n",
       "      <td>1</td>\n",
       "      <td>0.0</td>\n",
       "      <td>8</td>\n",
       "    </tr>\n",
       "    <tr>\n",
       "      <th>4</th>\n",
       "      <td>10</td>\n",
       "      <td>2013-01-01</td>\n",
       "      <td>1</td>\n",
       "      <td>0.0</td>\n",
       "      <td>10</td>\n",
       "    </tr>\n",
       "  </tbody>\n",
       "</table>\n",
       "</div>"
      ],
      "text/plain": [
       "   Order_ID        Date  Store_ID  Qty  Product_ID\n",
       "0         3  2013-01-01         1  0.0           3\n",
       "1         5  2013-01-01         1  0.0           5\n",
       "2         7  2013-01-01         1  0.0           7\n",
       "3         8  2013-01-01         1  0.0           8\n",
       "4        10  2013-01-01         1  0.0          10"
      ]
     },
     "metadata": {},
     "output_type": "display_data"
    },
    {
     "data": {
      "text/html": [
       "<div>\n",
       "<style scoped>\n",
       "    .dataframe tbody tr th:only-of-type {\n",
       "        vertical-align: middle;\n",
       "    }\n",
       "\n",
       "    .dataframe tbody tr th {\n",
       "        vertical-align: top;\n",
       "    }\n",
       "\n",
       "    .dataframe thead th {\n",
       "        text-align: right;\n",
       "    }\n",
       "</style>\n",
       "<table border=\"1\" class=\"dataframe\">\n",
       "  <thead>\n",
       "    <tr style=\"text-align: right;\">\n",
       "      <th></th>\n",
       "      <th>Product_ID</th>\n",
       "      <th>Product_Code</th>\n",
       "      <th>SubCategory</th>\n",
       "      <th>Category</th>\n",
       "      <th>LeadTime</th>\n",
       "      <th>Price</th>\n",
       "    </tr>\n",
       "  </thead>\n",
       "  <tbody>\n",
       "    <tr>\n",
       "      <th>0</th>\n",
       "      <td>20</td>\n",
       "      <td>HG001</td>\n",
       "      <td>Gardening Tools</td>\n",
       "      <td>Household Goods</td>\n",
       "      <td>2</td>\n",
       "      <td>50</td>\n",
       "    </tr>\n",
       "    <tr>\n",
       "      <th>1</th>\n",
       "      <td>27</td>\n",
       "      <td>HH001</td>\n",
       "      <td>Home Appliances</td>\n",
       "      <td>Household Goods</td>\n",
       "      <td>2</td>\n",
       "      <td>150</td>\n",
       "    </tr>\n",
       "    <tr>\n",
       "      <th>2</th>\n",
       "      <td>16</td>\n",
       "      <td>HK001</td>\n",
       "      <td>Kitchen</td>\n",
       "      <td>Household Goods</td>\n",
       "      <td>2</td>\n",
       "      <td>23</td>\n",
       "    </tr>\n",
       "    <tr>\n",
       "      <th>3</th>\n",
       "      <td>15</td>\n",
       "      <td>HK002</td>\n",
       "      <td>Kitchen</td>\n",
       "      <td>Household Goods</td>\n",
       "      <td>2</td>\n",
       "      <td>41</td>\n",
       "    </tr>\n",
       "    <tr>\n",
       "      <th>4</th>\n",
       "      <td>32</td>\n",
       "      <td>GS001</td>\n",
       "      <td>Seafood</td>\n",
       "      <td>Grocery</td>\n",
       "      <td>3</td>\n",
       "      <td>34</td>\n",
       "    </tr>\n",
       "  </tbody>\n",
       "</table>\n",
       "</div>"
      ],
      "text/plain": [
       "   Product_ID Product_Code      SubCategory         Category  LeadTime  Price\n",
       "0          20        HG001  Gardening Tools  Household Goods         2     50\n",
       "1          27        HH001  Home Appliances  Household Goods         2    150\n",
       "2          16        HK001          Kitchen  Household Goods         2     23\n",
       "3          15        HK002          Kitchen  Household Goods         2     41\n",
       "4          32        GS001          Seafood          Grocery         3     34"
      ]
     },
     "metadata": {},
     "output_type": "display_data"
    },
    {
     "data": {
      "text/html": [
       "<div>\n",
       "<style scoped>\n",
       "    .dataframe tbody tr th:only-of-type {\n",
       "        vertical-align: middle;\n",
       "    }\n",
       "\n",
       "    .dataframe tbody tr th {\n",
       "        vertical-align: top;\n",
       "    }\n",
       "\n",
       "    .dataframe thead th {\n",
       "        text-align: right;\n",
       "    }\n",
       "</style>\n",
       "<table border=\"1\" class=\"dataframe\">\n",
       "  <thead>\n",
       "    <tr style=\"text-align: right;\">\n",
       "      <th></th>\n",
       "      <th>Date</th>\n",
       "      <th>Amt</th>\n",
       "      <th>Drink</th>\n",
       "      <th>Food</th>\n",
       "      <th>Grocery</th>\n",
       "      <th>Household Goods</th>\n",
       "    </tr>\n",
       "  </thead>\n",
       "  <tbody>\n",
       "    <tr>\n",
       "      <th>0</th>\n",
       "      <td>2013-01-01</td>\n",
       "      <td>20.0</td>\n",
       "      <td>7.0</td>\n",
       "      <td>4.0</td>\n",
       "      <td>6.0</td>\n",
       "      <td>3.0</td>\n",
       "    </tr>\n",
       "    <tr>\n",
       "      <th>1</th>\n",
       "      <td>2013-01-02</td>\n",
       "      <td>3938.0</td>\n",
       "      <td>604.0</td>\n",
       "      <td>549.0</td>\n",
       "      <td>1663.0</td>\n",
       "      <td>1122.0</td>\n",
       "    </tr>\n",
       "    <tr>\n",
       "      <th>2</th>\n",
       "      <td>2013-01-03</td>\n",
       "      <td>2885.0</td>\n",
       "      <td>444.0</td>\n",
       "      <td>376.0</td>\n",
       "      <td>1222.0</td>\n",
       "      <td>843.0</td>\n",
       "    </tr>\n",
       "    <tr>\n",
       "      <th>3</th>\n",
       "      <td>2013-01-04</td>\n",
       "      <td>2907.0</td>\n",
       "      <td>490.0</td>\n",
       "      <td>386.0</td>\n",
       "      <td>1252.0</td>\n",
       "      <td>779.0</td>\n",
       "    </tr>\n",
       "    <tr>\n",
       "      <th>4</th>\n",
       "      <td>2013-01-05</td>\n",
       "      <td>3831.0</td>\n",
       "      <td>704.0</td>\n",
       "      <td>505.0</td>\n",
       "      <td>1560.0</td>\n",
       "      <td>1062.0</td>\n",
       "    </tr>\n",
       "  </tbody>\n",
       "</table>\n",
       "</div>"
      ],
      "text/plain": [
       "         Date     Amt  Drink   Food  Grocery  Household Goods\n",
       "0  2013-01-01    20.0    7.0    4.0      6.0              3.0\n",
       "1  2013-01-02  3938.0  604.0  549.0   1663.0           1122.0\n",
       "2  2013-01-03  2885.0  444.0  376.0   1222.0            843.0\n",
       "3  2013-01-04  2907.0  490.0  386.0   1252.0            779.0\n",
       "4  2013-01-05  3831.0  704.0  505.0   1560.0           1062.0"
      ]
     },
     "metadata": {},
     "output_type": "display_data"
    }
   ],
   "source": [
    "display(sales.head())\n",
    "display(products.head())\n",
    "display(data.head())"
   ]
  },
  {
   "cell_type": "code",
   "execution_count": 7,
   "id": "39ec56e7-da98-4f31-81e8-2cc1e08300e4",
   "metadata": {},
   "outputs": [
    {
     "data": {
      "text/html": [
       "<div>\n",
       "<style scoped>\n",
       "    .dataframe tbody tr th:only-of-type {\n",
       "        vertical-align: middle;\n",
       "    }\n",
       "\n",
       "    .dataframe tbody tr th {\n",
       "        vertical-align: top;\n",
       "    }\n",
       "\n",
       "    .dataframe thead th {\n",
       "        text-align: right;\n",
       "    }\n",
       "</style>\n",
       "<table border=\"1\" class=\"dataframe\">\n",
       "  <thead>\n",
       "    <tr style=\"text-align: right;\">\n",
       "      <th></th>\n",
       "      <th>Date</th>\n",
       "      <th>Amt</th>\n",
       "      <th>Drink</th>\n",
       "      <th>Food</th>\n",
       "      <th>Grocery</th>\n",
       "      <th>Household Goods</th>\n",
       "      <th>Amt_lag1</th>\n",
       "      <th>Amt_lag2</th>\n",
       "      <th>Amt_lag_1</th>\n",
       "    </tr>\n",
       "  </thead>\n",
       "  <tbody>\n",
       "    <tr>\n",
       "      <th>0</th>\n",
       "      <td>2013-01-01</td>\n",
       "      <td>20.0</td>\n",
       "      <td>7.0</td>\n",
       "      <td>4.0</td>\n",
       "      <td>6.0</td>\n",
       "      <td>3.0</td>\n",
       "      <td>NaN</td>\n",
       "      <td>NaN</td>\n",
       "      <td>3938.0</td>\n",
       "    </tr>\n",
       "    <tr>\n",
       "      <th>1</th>\n",
       "      <td>2013-01-02</td>\n",
       "      <td>3938.0</td>\n",
       "      <td>604.0</td>\n",
       "      <td>549.0</td>\n",
       "      <td>1663.0</td>\n",
       "      <td>1122.0</td>\n",
       "      <td>20.0</td>\n",
       "      <td>NaN</td>\n",
       "      <td>2885.0</td>\n",
       "    </tr>\n",
       "    <tr>\n",
       "      <th>2</th>\n",
       "      <td>2013-01-03</td>\n",
       "      <td>2885.0</td>\n",
       "      <td>444.0</td>\n",
       "      <td>376.0</td>\n",
       "      <td>1222.0</td>\n",
       "      <td>843.0</td>\n",
       "      <td>3938.0</td>\n",
       "      <td>20.0</td>\n",
       "      <td>2907.0</td>\n",
       "    </tr>\n",
       "    <tr>\n",
       "      <th>3</th>\n",
       "      <td>2013-01-04</td>\n",
       "      <td>2907.0</td>\n",
       "      <td>490.0</td>\n",
       "      <td>386.0</td>\n",
       "      <td>1252.0</td>\n",
       "      <td>779.0</td>\n",
       "      <td>2885.0</td>\n",
       "      <td>3938.0</td>\n",
       "      <td>3831.0</td>\n",
       "    </tr>\n",
       "    <tr>\n",
       "      <th>4</th>\n",
       "      <td>2013-01-05</td>\n",
       "      <td>3831.0</td>\n",
       "      <td>704.0</td>\n",
       "      <td>505.0</td>\n",
       "      <td>1560.0</td>\n",
       "      <td>1062.0</td>\n",
       "      <td>2907.0</td>\n",
       "      <td>2885.0</td>\n",
       "      <td>4066.0</td>\n",
       "    </tr>\n",
       "  </tbody>\n",
       "</table>\n",
       "</div>"
      ],
      "text/plain": [
       "         Date     Amt  Drink   Food  Grocery  Household Goods  Amt_lag1  \\\n",
       "0  2013-01-01    20.0    7.0    4.0      6.0              3.0       NaN   \n",
       "1  2013-01-02  3938.0  604.0  549.0   1663.0           1122.0      20.0   \n",
       "2  2013-01-03  2885.0  444.0  376.0   1222.0            843.0    3938.0   \n",
       "3  2013-01-04  2907.0  490.0  386.0   1252.0            779.0    2885.0   \n",
       "4  2013-01-05  3831.0  704.0  505.0   1560.0           1062.0    2907.0   \n",
       "\n",
       "   Amt_lag2  Amt_lag_1  \n",
       "0       NaN     3938.0  \n",
       "1       NaN     2885.0  \n",
       "2      20.0     2907.0  \n",
       "3    3938.0     3831.0  \n",
       "4    2885.0     4066.0  "
      ]
     },
     "execution_count": 7,
     "metadata": {},
     "output_type": "execute_result"
    }
   ],
   "source": [
    "data['Amt_lag1'] = data['Amt'].shift()\n",
    "data['Amt_lag2'] = data['Amt'].shift(2)\n",
    "data['Amt_lag_1'] = data['Amt'].shift(-1)\n",
    "\n",
    "data.head()"
   ]
  },
  {
   "cell_type": "markdown",
   "id": "3556c481-8230-4206-b417-b0b0fe01c2b3",
   "metadata": {},
   "source": [
    "Time Lag -- 시간 지연\n",
    "\n",
    "아하! 이런 식으로.. 시계열 데이터에서 시간의 흐름 전후로 정보를 이동시킬 수 있구나."
   ]
  },
  {
   "cell_type": "code",
   "execution_count": 8,
   "id": "b36f38c4-39ef-40b1-b139-ae1f48ee8caf",
   "metadata": {},
   "outputs": [
    {
     "data": {
      "text/html": [
       "<div>\n",
       "<style scoped>\n",
       "    .dataframe tbody tr th:only-of-type {\n",
       "        vertical-align: middle;\n",
       "    }\n",
       "\n",
       "    .dataframe tbody tr th {\n",
       "        vertical-align: top;\n",
       "    }\n",
       "\n",
       "    .dataframe thead th {\n",
       "        text-align: right;\n",
       "    }\n",
       "</style>\n",
       "<table border=\"1\" class=\"dataframe\">\n",
       "  <thead>\n",
       "    <tr style=\"text-align: right;\">\n",
       "      <th></th>\n",
       "      <th>Date</th>\n",
       "      <th>Amt</th>\n",
       "      <th>Drink</th>\n",
       "      <th>Food</th>\n",
       "      <th>Grocery</th>\n",
       "      <th>Household Goods</th>\n",
       "      <th>Amt_lag1</th>\n",
       "      <th>Amt_lag2</th>\n",
       "      <th>Amt_lag_1</th>\n",
       "      <th>Amt_MA3</th>\n",
       "      <th>Amt_MM3</th>\n",
       "      <th>Amt_MA3_2</th>\n",
       "    </tr>\n",
       "  </thead>\n",
       "  <tbody>\n",
       "    <tr>\n",
       "      <th>0</th>\n",
       "      <td>2013-01-01</td>\n",
       "      <td>20.0</td>\n",
       "      <td>7.0</td>\n",
       "      <td>4.0</td>\n",
       "      <td>6.0</td>\n",
       "      <td>3.0</td>\n",
       "      <td>NaN</td>\n",
       "      <td>NaN</td>\n",
       "      <td>3938.0</td>\n",
       "      <td>NaN</td>\n",
       "      <td>NaN</td>\n",
       "      <td>20.000000</td>\n",
       "    </tr>\n",
       "    <tr>\n",
       "      <th>1</th>\n",
       "      <td>2013-01-02</td>\n",
       "      <td>3938.0</td>\n",
       "      <td>604.0</td>\n",
       "      <td>549.0</td>\n",
       "      <td>1663.0</td>\n",
       "      <td>1122.0</td>\n",
       "      <td>20.0</td>\n",
       "      <td>NaN</td>\n",
       "      <td>2885.0</td>\n",
       "      <td>NaN</td>\n",
       "      <td>NaN</td>\n",
       "      <td>1979.000000</td>\n",
       "    </tr>\n",
       "    <tr>\n",
       "      <th>2</th>\n",
       "      <td>2013-01-03</td>\n",
       "      <td>2885.0</td>\n",
       "      <td>444.0</td>\n",
       "      <td>376.0</td>\n",
       "      <td>1222.0</td>\n",
       "      <td>843.0</td>\n",
       "      <td>3938.0</td>\n",
       "      <td>20.0</td>\n",
       "      <td>2907.0</td>\n",
       "      <td>2281.000000</td>\n",
       "      <td>3938.0</td>\n",
       "      <td>2281.000000</td>\n",
       "    </tr>\n",
       "    <tr>\n",
       "      <th>3</th>\n",
       "      <td>2013-01-04</td>\n",
       "      <td>2907.0</td>\n",
       "      <td>490.0</td>\n",
       "      <td>386.0</td>\n",
       "      <td>1252.0</td>\n",
       "      <td>779.0</td>\n",
       "      <td>2885.0</td>\n",
       "      <td>3938.0</td>\n",
       "      <td>3831.0</td>\n",
       "      <td>3243.333333</td>\n",
       "      <td>3938.0</td>\n",
       "      <td>3243.333333</td>\n",
       "    </tr>\n",
       "    <tr>\n",
       "      <th>4</th>\n",
       "      <td>2013-01-05</td>\n",
       "      <td>3831.0</td>\n",
       "      <td>704.0</td>\n",
       "      <td>505.0</td>\n",
       "      <td>1560.0</td>\n",
       "      <td>1062.0</td>\n",
       "      <td>2907.0</td>\n",
       "      <td>2885.0</td>\n",
       "      <td>4066.0</td>\n",
       "      <td>3207.666667</td>\n",
       "      <td>3831.0</td>\n",
       "      <td>3207.666667</td>\n",
       "    </tr>\n",
       "  </tbody>\n",
       "</table>\n",
       "</div>"
      ],
      "text/plain": [
       "         Date     Amt  Drink   Food  Grocery  Household Goods  Amt_lag1  \\\n",
       "0  2013-01-01    20.0    7.0    4.0      6.0              3.0       NaN   \n",
       "1  2013-01-02  3938.0  604.0  549.0   1663.0           1122.0      20.0   \n",
       "2  2013-01-03  2885.0  444.0  376.0   1222.0            843.0    3938.0   \n",
       "3  2013-01-04  2907.0  490.0  386.0   1252.0            779.0    2885.0   \n",
       "4  2013-01-05  3831.0  704.0  505.0   1560.0           1062.0    2907.0   \n",
       "\n",
       "   Amt_lag2  Amt_lag_1      Amt_MA3  Amt_MM3    Amt_MA3_2  \n",
       "0       NaN     3938.0          NaN      NaN    20.000000  \n",
       "1       NaN     2885.0          NaN      NaN  1979.000000  \n",
       "2      20.0     2907.0  2281.000000   3938.0  2281.000000  \n",
       "3    3938.0     3831.0  3243.333333   3938.0  3243.333333  \n",
       "4    2885.0     4066.0  3207.666667   3831.0  3207.666667  "
      ]
     },
     "execution_count": 8,
     "metadata": {},
     "output_type": "execute_result"
    }
   ],
   "source": [
    "data['Amt_MA3'] = data['Amt'].rolling(3).mean()\n",
    "data['Amt_MM3'] = data['Amt'].rolling(3).max()\n",
    "data['Amt_MA3_2'] = data['Amt'].rolling(3, min_periods=1).mean()\n",
    "\n",
    "data.head()"
   ]
  },
  {
   "cell_type": "markdown",
   "id": "899ffcd6-80bd-4f72-8041-1a6e73e183d2",
   "metadata": {},
   "source": [
    "시간의 흐름에 따라, 일정 기간 동안 평균을 이동하면서 구하기\n",
    "\n",
    "moving average\n",
    "\n",
    "min_periods를 설정할 수도 있구나~"
   ]
  },
  {
   "cell_type": "code",
   "execution_count": 11,
   "id": "974e9ef1-50e3-4029-b2ed-92a184ddf6bf",
   "metadata": {},
   "outputs": [],
   "source": [
    "#  -- 다시 셋팅 --\n",
    "\n",
    "# 판매액 계산하기\n",
    "temp = pd.merge(sales, products)\n",
    "temp['Amt' ] = temp['Qty'] * temp['Price']\n",
    "temp['Amt'] = (temp['Amt']/1000).round()  # 단위 1000달러\n",
    "\n",
    "# 집계\n",
    "data1 = temp.groupby(['Date', 'Category'], as_index = False)['Amt'].sum()\n",
    "data2 = temp.groupby(['Date'], as_index = False)['Amt'].sum()\n",
    "\n",
    "# 피봇\n",
    "data11 = data1.pivot('Date', 'Category', 'Amt').reset_index()\n",
    "\n",
    "# 합치기\n",
    "data = pd.merge(data2, data11)"
   ]
  },
  {
   "cell_type": "code",
   "execution_count": 12,
   "id": "41778b9c-0e87-4a28-9d35-cde54d93666b",
   "metadata": {},
   "outputs": [
    {
     "data": {
      "text/html": [
       "<div>\n",
       "<style scoped>\n",
       "    .dataframe tbody tr th:only-of-type {\n",
       "        vertical-align: middle;\n",
       "    }\n",
       "\n",
       "    .dataframe tbody tr th {\n",
       "        vertical-align: top;\n",
       "    }\n",
       "\n",
       "    .dataframe thead th {\n",
       "        text-align: right;\n",
       "    }\n",
       "</style>\n",
       "<table border=\"1\" class=\"dataframe\">\n",
       "  <thead>\n",
       "    <tr style=\"text-align: right;\">\n",
       "      <th></th>\n",
       "      <th>Date</th>\n",
       "      <th>Amt</th>\n",
       "      <th>Drink</th>\n",
       "      <th>Food</th>\n",
       "      <th>Grocery</th>\n",
       "      <th>Household Goods</th>\n",
       "      <th>Amt_diff1</th>\n",
       "      <th>Amt_diff2</th>\n",
       "    </tr>\n",
       "  </thead>\n",
       "  <tbody>\n",
       "    <tr>\n",
       "      <th>0</th>\n",
       "      <td>2013-01-01</td>\n",
       "      <td>20.0</td>\n",
       "      <td>7.0</td>\n",
       "      <td>4.0</td>\n",
       "      <td>6.0</td>\n",
       "      <td>3.0</td>\n",
       "      <td>NaN</td>\n",
       "      <td>NaN</td>\n",
       "    </tr>\n",
       "    <tr>\n",
       "      <th>1</th>\n",
       "      <td>2013-01-02</td>\n",
       "      <td>3938.0</td>\n",
       "      <td>604.0</td>\n",
       "      <td>549.0</td>\n",
       "      <td>1663.0</td>\n",
       "      <td>1122.0</td>\n",
       "      <td>3918.0</td>\n",
       "      <td>NaN</td>\n",
       "    </tr>\n",
       "    <tr>\n",
       "      <th>2</th>\n",
       "      <td>2013-01-03</td>\n",
       "      <td>2885.0</td>\n",
       "      <td>444.0</td>\n",
       "      <td>376.0</td>\n",
       "      <td>1222.0</td>\n",
       "      <td>843.0</td>\n",
       "      <td>-1053.0</td>\n",
       "      <td>2865.0</td>\n",
       "    </tr>\n",
       "    <tr>\n",
       "      <th>3</th>\n",
       "      <td>2013-01-04</td>\n",
       "      <td>2907.0</td>\n",
       "      <td>490.0</td>\n",
       "      <td>386.0</td>\n",
       "      <td>1252.0</td>\n",
       "      <td>779.0</td>\n",
       "      <td>22.0</td>\n",
       "      <td>-1031.0</td>\n",
       "    </tr>\n",
       "    <tr>\n",
       "      <th>4</th>\n",
       "      <td>2013-01-05</td>\n",
       "      <td>3831.0</td>\n",
       "      <td>704.0</td>\n",
       "      <td>505.0</td>\n",
       "      <td>1560.0</td>\n",
       "      <td>1062.0</td>\n",
       "      <td>924.0</td>\n",
       "      <td>946.0</td>\n",
       "    </tr>\n",
       "  </tbody>\n",
       "</table>\n",
       "</div>"
      ],
      "text/plain": [
       "         Date     Amt  Drink   Food  Grocery  Household Goods  Amt_diff1  \\\n",
       "0  2013-01-01    20.0    7.0    4.0      6.0              3.0        NaN   \n",
       "1  2013-01-02  3938.0  604.0  549.0   1663.0           1122.0     3918.0   \n",
       "2  2013-01-03  2885.0  444.0  376.0   1222.0            843.0    -1053.0   \n",
       "3  2013-01-04  2907.0  490.0  386.0   1252.0            779.0       22.0   \n",
       "4  2013-01-05  3831.0  704.0  505.0   1560.0           1062.0      924.0   \n",
       "\n",
       "   Amt_diff2  \n",
       "0        NaN  \n",
       "1        NaN  \n",
       "2     2865.0  \n",
       "3    -1031.0  \n",
       "4      946.0  "
      ]
     },
     "execution_count": 12,
     "metadata": {},
     "output_type": "execute_result"
    }
   ],
   "source": [
    "data['Amt_diff1'] = data['Amt'].diff()\n",
    "data['Amt_diff2'] = data['Amt'].diff(2)\n",
    "\n",
    "data.head()"
   ]
  },
  {
   "cell_type": "markdown",
   "id": "cfffb059-c458-4d70-a6db-40ee9a2a136d",
   "metadata": {},
   "source": [
    "# 시각화 라이브러리"
   ]
  },
  {
   "cell_type": "markdown",
   "id": "30648808-3eb4-46a9-8318-fe5a9a79441f",
   "metadata": {},
   "source": [
    "- 시각화를 통해, 비지니스의 인사이트를 파악하는 것."
   ]
  },
  {
   "cell_type": "code",
   "execution_count": 16,
   "id": "f3be4fd4-f588-4bb6-bd56-801edc696a6f",
   "metadata": {},
   "outputs": [],
   "source": [
    "import numpy as np\n",
    "import pandas as pd\n",
    "\n",
    "import matplotlib.pyplot as plt\n",
    "import seaborn as sns"
   ]
  },
  {
   "cell_type": "code",
   "execution_count": 17,
   "id": "18e6e149-c5f7-4fa5-bcb7-b406e2d59c04",
   "metadata": {},
   "outputs": [],
   "source": [
    "path = 'https://raw.githubusercontent.com/DA4BAM/dataset/master/titanic_simple.csv'\n",
    "titanic = pd.read_csv(path)"
   ]
  },
  {
   "cell_type": "code",
   "execution_count": 22,
   "id": "c7245afa-c508-4c37-80bd-be945a3bf9ef",
   "metadata": {},
   "outputs": [
    {
     "data": {
      "text/html": [
       "<div>\n",
       "<style scoped>\n",
       "    .dataframe tbody tr th:only-of-type {\n",
       "        vertical-align: middle;\n",
       "    }\n",
       "\n",
       "    .dataframe tbody tr th {\n",
       "        vertical-align: top;\n",
       "    }\n",
       "\n",
       "    .dataframe thead th {\n",
       "        text-align: right;\n",
       "    }\n",
       "</style>\n",
       "<table border=\"1\" class=\"dataframe\">\n",
       "  <thead>\n",
       "    <tr style=\"text-align: right;\">\n",
       "      <th></th>\n",
       "      <th>crim</th>\n",
       "      <th>zn</th>\n",
       "      <th>indus</th>\n",
       "      <th>chas</th>\n",
       "      <th>nox</th>\n",
       "      <th>rm</th>\n",
       "      <th>age</th>\n",
       "      <th>dis</th>\n",
       "      <th>rad</th>\n",
       "      <th>tax</th>\n",
       "      <th>ptratio</th>\n",
       "      <th>lstat</th>\n",
       "      <th>medv</th>\n",
       "    </tr>\n",
       "  </thead>\n",
       "  <tbody>\n",
       "    <tr>\n",
       "      <th>0</th>\n",
       "      <td>0.00632</td>\n",
       "      <td>18.0</td>\n",
       "      <td>2.31</td>\n",
       "      <td>0</td>\n",
       "      <td>0.538</td>\n",
       "      <td>6.575</td>\n",
       "      <td>65.2</td>\n",
       "      <td>4.0900</td>\n",
       "      <td>1</td>\n",
       "      <td>296</td>\n",
       "      <td>15.3</td>\n",
       "      <td>4.98</td>\n",
       "      <td>24.0</td>\n",
       "    </tr>\n",
       "    <tr>\n",
       "      <th>1</th>\n",
       "      <td>0.02731</td>\n",
       "      <td>0.0</td>\n",
       "      <td>7.07</td>\n",
       "      <td>0</td>\n",
       "      <td>0.469</td>\n",
       "      <td>6.421</td>\n",
       "      <td>78.9</td>\n",
       "      <td>4.9671</td>\n",
       "      <td>2</td>\n",
       "      <td>242</td>\n",
       "      <td>17.8</td>\n",
       "      <td>9.14</td>\n",
       "      <td>21.6</td>\n",
       "    </tr>\n",
       "    <tr>\n",
       "      <th>2</th>\n",
       "      <td>0.02729</td>\n",
       "      <td>0.0</td>\n",
       "      <td>7.07</td>\n",
       "      <td>0</td>\n",
       "      <td>0.469</td>\n",
       "      <td>7.185</td>\n",
       "      <td>61.1</td>\n",
       "      <td>4.9671</td>\n",
       "      <td>2</td>\n",
       "      <td>242</td>\n",
       "      <td>17.8</td>\n",
       "      <td>4.03</td>\n",
       "      <td>34.7</td>\n",
       "    </tr>\n",
       "    <tr>\n",
       "      <th>3</th>\n",
       "      <td>0.03237</td>\n",
       "      <td>0.0</td>\n",
       "      <td>2.18</td>\n",
       "      <td>0</td>\n",
       "      <td>0.458</td>\n",
       "      <td>6.998</td>\n",
       "      <td>45.8</td>\n",
       "      <td>6.0622</td>\n",
       "      <td>3</td>\n",
       "      <td>222</td>\n",
       "      <td>18.7</td>\n",
       "      <td>2.94</td>\n",
       "      <td>33.4</td>\n",
       "    </tr>\n",
       "    <tr>\n",
       "      <th>4</th>\n",
       "      <td>0.06905</td>\n",
       "      <td>0.0</td>\n",
       "      <td>2.18</td>\n",
       "      <td>0</td>\n",
       "      <td>0.458</td>\n",
       "      <td>7.147</td>\n",
       "      <td>54.2</td>\n",
       "      <td>6.0622</td>\n",
       "      <td>3</td>\n",
       "      <td>222</td>\n",
       "      <td>18.7</td>\n",
       "      <td>5.33</td>\n",
       "      <td>36.2</td>\n",
       "    </tr>\n",
       "  </tbody>\n",
       "</table>\n",
       "</div>"
      ],
      "text/plain": [
       "      crim    zn  indus  chas    nox     rm   age     dis  rad  tax  ptratio  \\\n",
       "0  0.00632  18.0   2.31     0  0.538  6.575  65.2  4.0900    1  296     15.3   \n",
       "1  0.02731   0.0   7.07     0  0.469  6.421  78.9  4.9671    2  242     17.8   \n",
       "2  0.02729   0.0   7.07     0  0.469  7.185  61.1  4.9671    2  242     17.8   \n",
       "3  0.03237   0.0   2.18     0  0.458  6.998  45.8  6.0622    3  222     18.7   \n",
       "4  0.06905   0.0   2.18     0  0.458  7.147  54.2  6.0622    3  222     18.7   \n",
       "\n",
       "   lstat  medv  \n",
       "0   4.98  24.0  \n",
       "1   9.14  21.6  \n",
       "2   4.03  34.7  \n",
       "3   2.94  33.4  \n",
       "4   5.33  36.2  "
      ]
     },
     "execution_count": 22,
     "metadata": {},
     "output_type": "execute_result"
    }
   ],
   "source": [
    "path = 'https://bit.ly/3PArw4W'\n",
    "boston = pd.read_csv(path)\n",
    "\n",
    "boston.head()"
   ]
  },
  {
   "cell_type": "code",
   "execution_count": 20,
   "id": "d99f97a0-679d-46bb-8f96-60942cd15e34",
   "metadata": {},
   "outputs": [
    {
     "data": {
      "image/png": "[encoded data removed]",
      "text/plain": [
       "<Figure size 640x480 with 1 Axes>"
      ]
     },
     "metadata": {},
     "output_type": "display_data"
    }
   ],
   "source": [
    "plt.plot(titanic['Age'])\n",
    "\n",
    "plt.show()"
   ]
  },
  {
   "cell_type": "code",
   "execution_count": 27,
   "id": "c7526c46-99fb-464f-bc55-a703e5c276ee",
   "metadata": {},
   "outputs": [
    {
     "data": {
      "image/png": "[encoded data removed]",
      "text/plain": [
       "<Figure size 640x480 with 1 Axes>"
      ]
     },
     "metadata": {},
     "output_type": "display_data"
    }
   ],
   "source": [
    "plt.scatter('crim','medv',data=boston)\n",
    "\n",
    "plt.show()"
   ]
  },
  {
   "cell_type": "code",
   "execution_count": 30,
   "id": "0243dc0b-3b8a-4e43-bf23-e1bfe8b67207",
   "metadata": {},
   "outputs": [
    {
     "data": {
      "image/png": "[encoded data removed]",
      "text/plain": [
       "<Figure size 640x480 with 1 Axes>"
      ]
     },
     "metadata": {},
     "output_type": "display_data"
    }
   ],
   "source": [
    "plt.scatter('crim','medv',data=boston)\n",
    "\n",
    "plt.xticks(rotation=90) # x축 라벨 rotation\n",
    "plt.xlabel('crim') # 축 레이블 붙이기\n",
    "plt.ylabel('medv')\n",
    "plt.title('crim에 따른 medv 분포 확인') # 그레프 타이틀\n",
    "\n",
    "plt.show()"
   ]
  },
  {
   "cell_type": "code",
   "execution_count": 36,
   "id": "873759e0-283b-4974-8762-0fe95e9d6754",
   "metadata": {},
   "outputs": [
    {
     "data": {
      "image/png": "[encoded data removed]",
      "text/plain": [
       "<Figure size 640x480 with 1 Axes>"
      ]
     },
     "metadata": {},
     "output_type": "display_data"
    }
   ],
   "source": [
    "plt.plot(boston['medv'],boston['tax'],\n",
    "        color='green', linestyle='dotted', marker='o')\n",
    "\n",
    "plt.xticks(rotation=90)\n",
    "plt.xlabel('medv')\n",
    "plt.ylabel('tax')\n",
    "plt.title('medv --> tax')\n",
    "\n",
    "plt.show()"
   ]
  },
  {
   "cell_type": "markdown",
   "id": "cd15626d-f027-4fce-9ca3-d8e111e8221b",
   "metadata": {},
   "source": [
    "..ㅋ\n",
    "\n",
    "line graph로 그리기엔 적절하지 않아 보이지만, 아무튼 이런 식으로 그래프를 꾸밀 수 있더라~\n",
    "\n",
    "- `color=`\n",
    "- `linestyle=`\n",
    "- `marker=`"
   ]
  },
  {
   "cell_type": "code",
   "execution_count": 38,
   "id": "a36d7756-a34c-4629-8377-e062d5fdd118",
   "metadata": {},
   "outputs": [
    {
     "data": {
      "image/png": "[encoded data removed]",
      "text/plain": [
       "<Figure size 640x480 with 1 Axes>"
      ]
     },
     "metadata": {},
     "output_type": "display_data"
    }
   ],
   "source": [
    "plt.scatter('crim','medv',data=boston)\n",
    "plt.scatter('age','medv',data=boston)\n",
    "\n",
    "plt.show()"
   ]
  },
  {
   "cell_type": "markdown",
   "id": "6cdf43ce-9f6e-4041-9dd3-8161c72c13a0",
   "metadata": {},
   "source": [
    "그래프 두 개를 이렇게 겹쳐놨다가\n",
    "\n",
    "`show()`로 발사 하는 거구나\n",
    "\n",
    "stack 같은 거에 쌓아놨다가 한번에 뿅 하는 거구나"
   ]
  },
  {
   "cell_type": "code",
   "execution_count": 39,
   "id": "6fab9856-f643-4484-aae7-fda45bc1ce5d",
   "metadata": {},
   "outputs": [
    {
     "data": {
      "image/png": "[encoded data removed]",
      "text/plain": [
       "<Figure size 640x480 with 1 Axes>"
      ]
     },
     "metadata": {},
     "output_type": "display_data"
    }
   ],
   "source": [
    "plt.scatter('age','medv',data=boston)\n",
    "plt.scatter('crim','medv',data=boston)\n",
    "\n",
    "plt.show()"
   ]
  },
  {
   "cell_type": "markdown",
   "id": "2aff2854-a64e-4279-846c-fc068bc887fb",
   "metadata": {},
   "source": [
    "아~ 이렇게..\n",
    "\n",
    "그려 넣은 순서에 따라 이렇게 쌓이는 구나~"
   ]
  },
  {
   "cell_type": "markdown",
   "id": "b951afef-fbc6-4ddc-ae62-9aa0566f93cf",
   "metadata": {},
   "source": [
    "### (+) 범례, 그리드\n",
    "- `legend()`: 범례\n",
    "- `grid()`: 그리드"
   ]
  },
  {
   "cell_type": "markdown",
   "id": "a6bc5e3e-69bc-4cef-966c-836e6429ef5e",
   "metadata": {},
   "source": [
    "데이터프레임 에서도 `.plot()`을 쓸 수 있다고 하네요."
   ]
  },
  {
   "cell_type": "markdown",
   "id": "248d6b0c-837d-4579-b937-3e6259240bd6",
   "metadata": {},
   "source": [
    "# 단변량 분석"
   ]
  },
  {
   "cell_type": "code",
   "execution_count": 1,
   "id": "760b1cd3-74ca-4b77-8c62-ca6e1cc5b625",
   "metadata": {},
   "outputs": [],
   "source": [
    "import numpy as np\n",
    "import pandas as pd\n",
    "\n",
    "import matplotlib.pyplot as plt\n",
    "import seaborn as sns"
   ]
  },
  {
   "cell_type": "code",
   "execution_count": 25,
   "id": "3f25ef51-abe2-492b-ac66-4ac4aa11cbb1",
   "metadata": {},
   "outputs": [
    {
     "data": {
      "text/html": [
       "<div>\n",
       "<style scoped>\n",
       "    .dataframe tbody tr th:only-of-type {\n",
       "        vertical-align: middle;\n",
       "    }\n",
       "\n",
       "    .dataframe tbody tr th {\n",
       "        vertical-align: top;\n",
       "    }\n",
       "\n",
       "    .dataframe thead th {\n",
       "        text-align: right;\n",
       "    }\n",
       "</style>\n",
       "<table border=\"1\" class=\"dataframe\">\n",
       "  <thead>\n",
       "    <tr style=\"text-align: right;\">\n",
       "      <th></th>\n",
       "      <th>PassengerId</th>\n",
       "      <th>Survived</th>\n",
       "      <th>Pclass</th>\n",
       "      <th>Name</th>\n",
       "      <th>Sex</th>\n",
       "      <th>Age</th>\n",
       "      <th>Fare</th>\n",
       "      <th>Embarked</th>\n",
       "    </tr>\n",
       "  </thead>\n",
       "  <tbody>\n",
       "    <tr>\n",
       "      <th>0</th>\n",
       "      <td>1</td>\n",
       "      <td>0</td>\n",
       "      <td>3</td>\n",
       "      <td>Braund, Mr. Owen Harris</td>\n",
       "      <td>male</td>\n",
       "      <td>22.0</td>\n",
       "      <td>7.2500</td>\n",
       "      <td>Southampton</td>\n",
       "    </tr>\n",
       "    <tr>\n",
       "      <th>1</th>\n",
       "      <td>2</td>\n",
       "      <td>1</td>\n",
       "      <td>1</td>\n",
       "      <td>Cumings, Mrs. John Bradley (Florence Briggs Th...</td>\n",
       "      <td>female</td>\n",
       "      <td>38.0</td>\n",
       "      <td>71.2833</td>\n",
       "      <td>Cherbourg</td>\n",
       "    </tr>\n",
       "    <tr>\n",
       "      <th>2</th>\n",
       "      <td>3</td>\n",
       "      <td>1</td>\n",
       "      <td>3</td>\n",
       "      <td>Heikkinen, Miss. Laina</td>\n",
       "      <td>female</td>\n",
       "      <td>26.0</td>\n",
       "      <td>7.9250</td>\n",
       "      <td>Southampton</td>\n",
       "    </tr>\n",
       "    <tr>\n",
       "      <th>3</th>\n",
       "      <td>4</td>\n",
       "      <td>1</td>\n",
       "      <td>1</td>\n",
       "      <td>Futrelle, Mrs. Jacques Heath (Lily May Peel)</td>\n",
       "      <td>female</td>\n",
       "      <td>35.0</td>\n",
       "      <td>53.1000</td>\n",
       "      <td>Southampton</td>\n",
       "    </tr>\n",
       "    <tr>\n",
       "      <th>4</th>\n",
       "      <td>5</td>\n",
       "      <td>0</td>\n",
       "      <td>3</td>\n",
       "      <td>Allen, Mr. William Henry</td>\n",
       "      <td>male</td>\n",
       "      <td>35.0</td>\n",
       "      <td>8.0500</td>\n",
       "      <td>Southampton</td>\n",
       "    </tr>\n",
       "  </tbody>\n",
       "</table>\n",
       "</div>"
      ],
      "text/plain": [
       "   PassengerId  Survived  Pclass  \\\n",
       "0            1         0       3   \n",
       "1            2         1       1   \n",
       "2            3         1       3   \n",
       "3            4         1       1   \n",
       "4            5         0       3   \n",
       "\n",
       "                                                Name     Sex   Age     Fare  \\\n",
       "0                            Braund, Mr. Owen Harris    male  22.0   7.2500   \n",
       "1  Cumings, Mrs. John Bradley (Florence Briggs Th...  female  38.0  71.2833   \n",
       "2                             Heikkinen, Miss. Laina  female  26.0   7.9250   \n",
       "3       Futrelle, Mrs. Jacques Heath (Lily May Peel)  female  35.0  53.1000   \n",
       "4                           Allen, Mr. William Henry    male  35.0   8.0500   \n",
       "\n",
       "      Embarked  \n",
       "0  Southampton  \n",
       "1    Cherbourg  \n",
       "2  Southampton  \n",
       "3  Southampton  \n",
       "4  Southampton  "
      ]
     },
     "execution_count": 25,
     "metadata": {},
     "output_type": "execute_result"
    }
   ],
   "source": [
    "path = 'https://raw.githubusercontent.com/DA4BAM/dataset/master/titanic_simple.csv'\n",
    "titanic = pd.read_csv(path)\n",
    "\n",
    "titanic.head()"
   ]
  },
  {
   "cell_type": "code",
   "execution_count": 6,
   "id": "6487881e-27a8-4f03-8df1-594a42837211",
   "metadata": {},
   "outputs": [
    {
     "name": "stdout",
     "output_type": "stream",
     "text": [
      "32.2042079685746\n",
      "32.2042079685746\n"
     ]
    }
   ],
   "source": [
    "print(np.mean(titanic['Fare'])) # 넘파이 함수\n",
    "print(titanic['Fare'].mean()) # 판다스 메서드"
   ]
  },
  {
   "cell_type": "markdown",
   "id": "13c76e83-9939-4cec-962b-8d68f1bf348e",
   "metadata": {},
   "source": [
    "`mean` 평균"
   ]
  },
  {
   "cell_type": "code",
   "execution_count": 7,
   "id": "d91a2162-f83c-457b-a55a-345db3931f76",
   "metadata": {},
   "outputs": [
    {
     "name": "stdout",
     "output_type": "stream",
     "text": [
      "14.4542\n",
      "14.4542\n"
     ]
    }
   ],
   "source": [
    "print(np.median(titanic['Fare'])) # 넘파이 함수\n",
    "print(titanic['Fare'].median()) # 판다스 메서드"
   ]
  },
  {
   "cell_type": "markdown",
   "id": "6e7b5bad-abc9-496f-96f3-8e81640fcc58",
   "metadata": {},
   "source": [
    "`median` 중위수"
   ]
  },
  {
   "cell_type": "code",
   "execution_count": 26,
   "id": "e83af8ee-ea4b-4359-94f4-ab60a480d5fd",
   "metadata": {},
   "outputs": [
    {
     "name": "stdout",
     "output_type": "stream",
     "text": [
      "0    3\n",
      "dtype: int64\n"
     ]
    }
   ],
   "source": [
    "print(titanic['Pclass'].mode()) # 판다스 메서드"
   ]
  },
  {
   "cell_type": "markdown",
   "id": "9dae6f82-88f4-42ea-bc19-3754f2f393f6",
   "metadata": {},
   "source": [
    "`mode` 최빈값"
   ]
  },
  {
   "cell_type": "markdown",
   "id": "130c8f85-906e-4814-b7bb-ebd40efd3e72",
   "metadata": {},
   "source": [
    "(+) 조화 평균\n",
    "- harmonic mean\n",
    "- 분자가 동일한 두 비율의 평균\n",
    "- a, b가 있을 때, a와 b의 각각의 역수의 평균의 역수\n",
    "- (2ab)/(a+b)"
   ]
  },
  {
   "cell_type": "code",
   "execution_count": 13,
   "id": "76a91c5c-b22b-43dd-88dc-389a6d839002",
   "metadata": {},
   "outputs": [
    {
     "data": {
      "text/html": [
       "<div>\n",
       "<style scoped>\n",
       "    .dataframe tbody tr th:only-of-type {\n",
       "        vertical-align: middle;\n",
       "    }\n",
       "\n",
       "    .dataframe tbody tr th {\n",
       "        vertical-align: top;\n",
       "    }\n",
       "\n",
       "    .dataframe thead th {\n",
       "        text-align: right;\n",
       "    }\n",
       "</style>\n",
       "<table border=\"1\" class=\"dataframe\">\n",
       "  <thead>\n",
       "    <tr style=\"text-align: right;\">\n",
       "      <th></th>\n",
       "      <th>PassengerId</th>\n",
       "      <th>Survived</th>\n",
       "      <th>Pclass</th>\n",
       "      <th>Age</th>\n",
       "      <th>Fare</th>\n",
       "    </tr>\n",
       "  </thead>\n",
       "  <tbody>\n",
       "    <tr>\n",
       "      <th>count</th>\n",
       "      <td>891.000000</td>\n",
       "      <td>891.000000</td>\n",
       "      <td>891.000000</td>\n",
       "      <td>714.000000</td>\n",
       "      <td>891.000000</td>\n",
       "    </tr>\n",
       "    <tr>\n",
       "      <th>mean</th>\n",
       "      <td>446.000000</td>\n",
       "      <td>0.383838</td>\n",
       "      <td>2.308642</td>\n",
       "      <td>29.699118</td>\n",
       "      <td>32.204208</td>\n",
       "    </tr>\n",
       "    <tr>\n",
       "      <th>std</th>\n",
       "      <td>257.353842</td>\n",
       "      <td>0.486592</td>\n",
       "      <td>0.836071</td>\n",
       "      <td>14.526497</td>\n",
       "      <td>49.693429</td>\n",
       "    </tr>\n",
       "    <tr>\n",
       "      <th>min</th>\n",
       "      <td>1.000000</td>\n",
       "      <td>0.000000</td>\n",
       "      <td>1.000000</td>\n",
       "      <td>0.420000</td>\n",
       "      <td>0.000000</td>\n",
       "    </tr>\n",
       "    <tr>\n",
       "      <th>25%</th>\n",
       "      <td>223.500000</td>\n",
       "      <td>0.000000</td>\n",
       "      <td>2.000000</td>\n",
       "      <td>20.125000</td>\n",
       "      <td>7.910400</td>\n",
       "    </tr>\n",
       "    <tr>\n",
       "      <th>50%</th>\n",
       "      <td>446.000000</td>\n",
       "      <td>0.000000</td>\n",
       "      <td>3.000000</td>\n",
       "      <td>28.000000</td>\n",
       "      <td>14.454200</td>\n",
       "    </tr>\n",
       "    <tr>\n",
       "      <th>75%</th>\n",
       "      <td>668.500000</td>\n",
       "      <td>1.000000</td>\n",
       "      <td>3.000000</td>\n",
       "      <td>38.000000</td>\n",
       "      <td>31.000000</td>\n",
       "    </tr>\n",
       "    <tr>\n",
       "      <th>max</th>\n",
       "      <td>891.000000</td>\n",
       "      <td>1.000000</td>\n",
       "      <td>3.000000</td>\n",
       "      <td>80.000000</td>\n",
       "      <td>512.329200</td>\n",
       "    </tr>\n",
       "  </tbody>\n",
       "</table>\n",
       "</div>"
      ],
      "text/plain": [
       "       PassengerId    Survived      Pclass         Age        Fare\n",
       "count   891.000000  891.000000  891.000000  714.000000  891.000000\n",
       "mean    446.000000    0.383838    2.308642   29.699118   32.204208\n",
       "std     257.353842    0.486592    0.836071   14.526497   49.693429\n",
       "min       1.000000    0.000000    1.000000    0.420000    0.000000\n",
       "25%     223.500000    0.000000    2.000000   20.125000    7.910400\n",
       "50%     446.000000    0.000000    3.000000   28.000000   14.454200\n",
       "75%     668.500000    1.000000    3.000000   38.000000   31.000000\n",
       "max     891.000000    1.000000    3.000000   80.000000  512.329200"
      ]
     },
     "execution_count": 13,
     "metadata": {},
     "output_type": "execute_result"
    }
   ],
   "source": [
    "titanic.describe()"
   ]
  },
  {
   "cell_type": "markdown",
   "id": "d5bb7b42-6401-4e58-ba0c-aecb94fca892",
   "metadata": {},
   "source": [
    "기초 통계량 `describe()`\n",
    "\n",
    "- `count` 데이터 개수\n",
    "- `25%`, `50%`, `75%`: 1사분위수, 2사분위수, 3사분위수"
   ]
  },
  {
   "cell_type": "code",
   "execution_count": 15,
   "id": "b30d6844-1b4d-475b-ac93-d26628bea6b6",
   "metadata": {},
   "outputs": [
    {
     "data": {
      "image/png": "[encoded data removed]",
      "text/plain": [
       "<Figure size 640x480 with 1 Axes>"
      ]
     },
     "metadata": {},
     "output_type": "display_data"
    }
   ],
   "source": [
    "plt.hist(titanic['Fare'], bins=30,\n",
    "        edgecolor='red')\n",
    "plt.xlabel('Fare')\n",
    "plt.ylabel('Frequency')\n",
    "plt.show()"
   ]
  },
  {
   "cell_type": "markdown",
   "id": "3acab681-2d44-48b1-8da5-ad59564024f0",
   "metadata": {},
   "source": [
    "히스토그램 histogram\n",
    "\n",
    "- 히스토그램을 그릴 때는, `bins`를 적절히 조절해 그릴 것"
   ]
  },
  {
   "cell_type": "code",
   "execution_count": 16,
   "id": "122fbcbf-d896-4066-a8b6-8385939b7cb0",
   "metadata": {},
   "outputs": [
    {
     "data": {
      "image/png": "[encoded data removed]",
      "text/plain": [
       "<Figure size 640x480 with 1 Axes>"
      ]
     },
     "metadata": {},
     "output_type": "display_data"
    }
   ],
   "source": [
    "sns.kdeplot(titanic['Fare'])\n",
    "plt.show()"
   ]
  },
  {
   "cell_type": "markdown",
   "id": "7eb6b249-5a2c-4f7a-be45-a374cb46c919",
   "metadata": {},
   "source": [
    "밀도함수 그래프\n",
    "- 헐! 구간의 너비를 정하지 않아도 되는구나.\n",
    "- 커널 밀도 추정 kernel density estimation 방식\n",
    "- 밀도 함수 그래프 아래 면적은 '1'\n",
    "- 면적으로 구간에 대한 확률 추정"
   ]
  },
  {
   "cell_type": "code",
   "execution_count": 21,
   "id": "d6ddb188-b5d4-4d19-a844-23b56051e4c0",
   "metadata": {},
   "outputs": [
    {
     "data": {
      "image/png": "[encoded data removed]",
      "text/plain": [
       "<Figure size 640x480 with 1 Axes>"
      ]
     },
     "metadata": {},
     "output_type": "display_data"
    },
    {
     "data": {
      "image/png": "[encoded data removed]",
      "text/plain": [
       "<Figure size 640x480 with 1 Axes>"
      ]
     },
     "metadata": {},
     "output_type": "display_data"
    }
   ],
   "source": [
    "plt.boxplot(titanic['Fare'])\n",
    "plt.grid()\n",
    "plt.show()\n",
    "\n",
    "plt.boxplot(titanic['Fare'], vert=False)\n",
    "plt.grid()\n",
    "plt.show()"
   ]
  },
  {
   "cell_type": "markdown",
   "id": "88b23116-86f0-4c0d-9300-1e7ea87e2d21",
   "metadata": {},
   "source": [
    "이 box plot은 요상하게 생겼네요. box plot을 그리기에 적절하지 않은 데이터였던 것 같아요.\n",
    "\n",
    "아무튼..\n",
    "\n",
    "- `vert=` 파라미터를 통해 횡형, 종형 설정 가능\n",
    "- `박스`, `수염`"
   ]
  },
  {
   "cell_type": "markdown",
   "id": "f7856050-bd63-46d3-9428-ab9648e499e5",
   "metadata": {},
   "source": [
    "### IQR\n",
    "- `3사분위수 - 1사분위수`\n",
    "- 저 박스의.. 높이.? 크기..\n",
    "- 박스의 처음 시작 부분의 값이 Q1, 끝나는 부분이 Q3 이니까.."
   ]
  },
  {
   "cell_type": "markdown",
   "id": "b395654d-cf3e-4402-baec-7155ce3b9811",
   "metadata": {},
   "source": [
    "# 단변량 분석 - 범주형"
   ]
  },
  {
   "cell_type": "code",
   "execution_count": 22,
   "id": "111a920f-00a3-4881-9c58-c9c0efbc47fe",
   "metadata": {},
   "outputs": [
    {
     "data": {
      "text/plain": [
       "Southampton    644\n",
       "Cherbourg      168\n",
       "Queenstown      77\n",
       "Name: Embarked, dtype: int64"
      ]
     },
     "execution_count": 22,
     "metadata": {},
     "output_type": "execute_result"
    }
   ],
   "source": [
    "titanic['Embarked'].value_counts()"
   ]
  },
  {
   "cell_type": "markdown",
   "id": "8aeee3be-5b74-4872-abff-ec6606e692ce",
   "metadata": {},
   "source": [
    "범주 별 빈도수"
   ]
  },
  {
   "cell_type": "code",
   "execution_count": 23,
   "id": "2c94ac25-3942-4c85-a25d-5f0a2d657a4a",
   "metadata": {},
   "outputs": [
    {
     "data": {
      "text/plain": [
       "Southampton    0.722783\n",
       "Cherbourg      0.188552\n",
       "Queenstown     0.086420\n",
       "Name: Embarked, dtype: float64"
      ]
     },
     "execution_count": 23,
     "metadata": {},
     "output_type": "execute_result"
    }
   ],
   "source": [
    "titanic['Embarked'].value_counts() / titanic.shape[0]"
   ]
  },
  {
   "cell_type": "markdown",
   "id": "89e21513-a50c-44cd-92c6-a3bbf5847596",
   "metadata": {},
   "source": [
    "이렇게 하면? `범주 별 비율`이 된다."
   ]
  },
  {
   "cell_type": "code",
   "execution_count": 35,
   "id": "d45bbd8d-b24f-4706-b754-21630a3c06d9",
   "metadata": {},
   "outputs": [
    {
     "data": {
      "image/png": "[encoded data removed]",
      "text/plain": [
       "<Figure size 640x480 with 1 Axes>"
      ]
     },
     "metadata": {},
     "output_type": "display_data"
    }
   ],
   "source": [
    "sns.countplot(x='Pclass', data=titanic)\n",
    "plt.grid()\n",
    "plt.show()"
   ]
  },
  {
   "cell_type": "markdown",
   "id": "0c2dac5f-073d-4259-9973-0e5f22cda9ed",
   "metadata": {},
   "source": [
    "`countplot`이, 범주 별 빈도수를 계산하고 bar plot으로 나타내 주는구나"
   ]
  },
  {
   "cell_type": "markdown",
   "id": "2ca7a3b4-04b3-4d7c-bf2f-c8acf844bc50",
   "metadata": {},
   "source": [
    "### (+) 가설을 검정한다는 것\n",
    "\n",
    "- 우리가 세운 가설(대립가설)\n",
    "- 을 검증하기 위한 어떤 쿼리를 날려서, 그것에 대한 P-value를 구했더니\n",
    "- 기준(유의수준)으로 정한 5%보다 작다면?\n",
    "    - 우리가 세운 가설이, 모집단에서 맞을 것이라고 판단할 수 있는 것이다.."
   ]
  },
  {
   "cell_type": "markdown",
   "id": "fc2aa85f-55e8-42f1-b191-a419e84f027b",
   "metadata": {},
   "source": [
    "# 이변량 분석 - 숫자 -> 숫자"
   ]
  },
  {
   "cell_type": "code",
   "execution_count": 4,
   "id": "8464b909-0371-4f08-a049-d1479381bffc",
   "metadata": {},
   "outputs": [],
   "source": [
    "import numpy as np\n",
    "import pandas as pd\n",
    "\n",
    "import matplotlib.pyplot as plt\n",
    "import seaborn as sns"
   ]
  },
  {
   "cell_type": "code",
   "execution_count": 5,
   "id": "58919ad2-3b7e-430c-90d5-a6c2fa4803f9",
   "metadata": {},
   "outputs": [
    {
     "data": {
      "text/html": [
       "<div>\n",
       "<style scoped>\n",
       "    .dataframe tbody tr th:only-of-type {\n",
       "        vertical-align: middle;\n",
       "    }\n",
       "\n",
       "    .dataframe tbody tr th {\n",
       "        vertical-align: top;\n",
       "    }\n",
       "\n",
       "    .dataframe thead th {\n",
       "        text-align: right;\n",
       "    }\n",
       "</style>\n",
       "<table border=\"1\" class=\"dataframe\">\n",
       "  <thead>\n",
       "    <tr style=\"text-align: right;\">\n",
       "      <th></th>\n",
       "      <th>Ozone</th>\n",
       "      <th>Solar.R</th>\n",
       "      <th>Wind</th>\n",
       "      <th>Temp</th>\n",
       "      <th>Date</th>\n",
       "    </tr>\n",
       "  </thead>\n",
       "  <tbody>\n",
       "    <tr>\n",
       "      <th>0</th>\n",
       "      <td>41</td>\n",
       "      <td>190.0</td>\n",
       "      <td>7.4</td>\n",
       "      <td>67</td>\n",
       "      <td>1973-05-01</td>\n",
       "    </tr>\n",
       "    <tr>\n",
       "      <th>1</th>\n",
       "      <td>36</td>\n",
       "      <td>118.0</td>\n",
       "      <td>8.0</td>\n",
       "      <td>72</td>\n",
       "      <td>1973-05-02</td>\n",
       "    </tr>\n",
       "    <tr>\n",
       "      <th>2</th>\n",
       "      <td>12</td>\n",
       "      <td>149.0</td>\n",
       "      <td>12.6</td>\n",
       "      <td>74</td>\n",
       "      <td>1973-05-03</td>\n",
       "    </tr>\n",
       "    <tr>\n",
       "      <th>3</th>\n",
       "      <td>18</td>\n",
       "      <td>313.0</td>\n",
       "      <td>11.5</td>\n",
       "      <td>62</td>\n",
       "      <td>1973-05-04</td>\n",
       "    </tr>\n",
       "    <tr>\n",
       "      <th>4</th>\n",
       "      <td>19</td>\n",
       "      <td>NaN</td>\n",
       "      <td>14.3</td>\n",
       "      <td>56</td>\n",
       "      <td>1973-05-05</td>\n",
       "    </tr>\n",
       "  </tbody>\n",
       "</table>\n",
       "</div>"
      ],
      "text/plain": [
       "   Ozone  Solar.R  Wind  Temp        Date\n",
       "0     41    190.0   7.4    67  1973-05-01\n",
       "1     36    118.0   8.0    72  1973-05-02\n",
       "2     12    149.0  12.6    74  1973-05-03\n",
       "3     18    313.0  11.5    62  1973-05-04\n",
       "4     19      NaN  14.3    56  1973-05-05"
      ]
     },
     "execution_count": 5,
     "metadata": {},
     "output_type": "execute_result"
    }
   ],
   "source": [
    "path = 'https://raw.githubusercontent.com/DA4BAM/dataset/master/air2.csv'\n",
    "air = pd.read_csv(path)\n",
    "air.head()"
   ]
  },
  {
   "cell_type": "code",
   "execution_count": 6,
   "id": "4df9d8ec-a4db-4021-aeea-6da05a34bdda",
   "metadata": {},
   "outputs": [
    {
     "data": {
      "image/png": "[encoded data removed]",
      "text/plain": [
       "<Figure size 640x480 with 1 Axes>"
      ]
     },
     "metadata": {},
     "output_type": "display_data"
    }
   ],
   "source": [
    "plt.scatter('Temp','Ozone',data=air)\n",
    "plt.show()"
   ]
  },
  {
   "cell_type": "markdown",
   "id": "03fc0ebb-42b3-40d6-88a9-b83a64e1add8",
   "metadata": {},
   "source": [
    "산점도 scatter\n",
    "\n",
    "아까도 그려봤던 거 같아요.\n",
    "\n",
    "seaborn을 통해서도 scatter를 그릴 수 있는데, 궁금하면 나중에 찾아볼게요"
   ]
  },
  {
   "cell_type": "code",
   "execution_count": 7,
   "id": "2797f108-a40e-4118-bdb0-e07dfdcacc04",
   "metadata": {},
   "outputs": [
    {
     "data": {
      "image/png": "[encoded data removed]",
      "text/plain": [
       "<Figure size 1000x1000 with 20 Axes>"
      ]
     },
     "metadata": {},
     "output_type": "display_data"
    }
   ],
   "source": [
    "sns.pairplot(air)\n",
    "plt.show()"
   ]
  },
  {
   "cell_type": "markdown",
   "id": "c9a782c6-21ee-4a64-a2f4-a7ec51667949",
   "metadata": {},
   "source": [
    "이건 `pairplot` 이라는 건데요\n",
    "\n",
    "숫자형 변수들에 대한 산점도를 한꺼번에 그려줍니다.\n",
    "\n",
    "단점이라면.. 변수와 데이터가 많을 때, 시간이 많이 걸리고.. 일일히 확인하기 쉽지 않다는 점."
   ]
  },
  {
   "cell_type": "code",
   "execution_count": 8,
   "id": "c90b9c3d-3ceb-49a6-a6a2-a2f19aced70a",
   "metadata": {},
   "outputs": [],
   "source": [
    "import scipy.stats as spst"
   ]
  },
  {
   "cell_type": "code",
   "execution_count": 10,
   "id": "87d7cb4d-10ac-4d7b-b019-baff9e2c400e",
   "metadata": {},
   "outputs": [
    {
     "data": {
      "text/plain": [
       "(0.6833717861490114, 2.197769800200274e-22)"
      ]
     },
     "execution_count": 10,
     "metadata": {},
     "output_type": "execute_result"
    }
   ],
   "source": [
    "spst.pearsonr(air['Temp'], air['Ozone'])"
   ]
  },
  {
   "cell_type": "markdown",
   "id": "be574713-ef65-4116-8ec6-c73883b6551a",
   "metadata": {},
   "source": [
    "잠깐!\n",
    "\n",
    "상관계수는 'r'로 표현됩니다. (correlation)\n",
    "\n",
    "아하. 그래서 피어슨의 r 이라서 pearson r 이구나.\n",
    "\n",
    "`(상관계수, p-value)` 형태의 결과\n",
    "\n",
    "- `p-value < 0.05` 이면, 두 변수 간에 **관계가 있다** (상관계수가 의미가 있다)\n",
    "- `p-value >= 0.05` 이면, 두 변수 간에 관계가 없다.. 라고 본다."
   ]
  },
  {
   "cell_type": "code",
   "execution_count": 12,
   "id": "451c3dbe-b97c-4ebe-9bc6-077744d955bd",
   "metadata": {},
   "outputs": [
    {
     "data": {
      "text/html": [
       "<div>\n",
       "<style scoped>\n",
       "    .dataframe tbody tr th:only-of-type {\n",
       "        vertical-align: middle;\n",
       "    }\n",
       "\n",
       "    .dataframe tbody tr th {\n",
       "        vertical-align: top;\n",
       "    }\n",
       "\n",
       "    .dataframe thead th {\n",
       "        text-align: right;\n",
       "    }\n",
       "</style>\n",
       "<table border=\"1\" class=\"dataframe\">\n",
       "  <thead>\n",
       "    <tr style=\"text-align: right;\">\n",
       "      <th></th>\n",
       "      <th>Ozone</th>\n",
       "      <th>Solar.R</th>\n",
       "      <th>Wind</th>\n",
       "      <th>Temp</th>\n",
       "    </tr>\n",
       "  </thead>\n",
       "  <tbody>\n",
       "    <tr>\n",
       "      <th>Ozone</th>\n",
       "      <td>1.000000</td>\n",
       "      <td>0.280068</td>\n",
       "      <td>-0.605478</td>\n",
       "      <td>0.683372</td>\n",
       "    </tr>\n",
       "    <tr>\n",
       "      <th>Solar.R</th>\n",
       "      <td>0.280068</td>\n",
       "      <td>1.000000</td>\n",
       "      <td>-0.056792</td>\n",
       "      <td>0.275840</td>\n",
       "    </tr>\n",
       "    <tr>\n",
       "      <th>Wind</th>\n",
       "      <td>-0.605478</td>\n",
       "      <td>-0.056792</td>\n",
       "      <td>1.000000</td>\n",
       "      <td>-0.457988</td>\n",
       "    </tr>\n",
       "    <tr>\n",
       "      <th>Temp</th>\n",
       "      <td>0.683372</td>\n",
       "      <td>0.275840</td>\n",
       "      <td>-0.457988</td>\n",
       "      <td>1.000000</td>\n",
       "    </tr>\n",
       "  </tbody>\n",
       "</table>\n",
       "</div>"
      ],
      "text/plain": [
       "            Ozone   Solar.R      Wind      Temp\n",
       "Ozone    1.000000  0.280068 -0.605478  0.683372\n",
       "Solar.R  0.280068  1.000000 -0.056792  0.275840\n",
       "Wind    -0.605478 -0.056792  1.000000 -0.457988\n",
       "Temp     0.683372  0.275840 -0.457988  1.000000"
      ]
     },
     "execution_count": 12,
     "metadata": {},
     "output_type": "execute_result"
    }
   ],
   "source": [
    "air.corr()"
   ]
  },
  {
   "cell_type": "markdown",
   "id": "cdd9fd3a-7ba4-4d7c-97ec-6b99a9654344",
   "metadata": {},
   "source": [
    "이런 식으로, df로부터 한꺼번에 상관계수를 구할 수도 있어요.\n",
    "\n",
    "`corr()`"
   ]
  },
  {
   "cell_type": "markdown",
   "id": "a71c7ad7-0a93-485f-a98e-385823066b6e",
   "metadata": {},
   "source": [
    "# 이변량 분석 - 범주 -> 숫자"
   ]
  },
  {
   "cell_type": "code",
   "execution_count": 14,
   "id": "ce4e485d-2ae7-4b13-b82f-0d3d1d370de5",
   "metadata": {},
   "outputs": [],
   "source": [
    "path = 'https://raw.githubusercontent.com/DA4BAM/dataset/master/titanic_simple.csv'\n",
    "titanic = pd.read_csv(path)"
   ]
  },
  {
   "cell_type": "code",
   "execution_count": 15,
   "id": "95d47c94-288a-4d75-b8f9-a06396b93a0e",
   "metadata": {},
   "outputs": [
    {
     "data": {
      "image/png": "[encoded data removed]",
      "text/plain": [
       "<Figure size 640x480 with 1 Axes>"
      ]
     },
     "metadata": {},
     "output_type": "display_data"
    }
   ],
   "source": [
    "sns.barplot(x='Survived',y='Age',data=titanic)\n",
    "plt.grid()\n",
    "plt.show()"
   ]
  },
  {
   "cell_type": "markdown",
   "id": "cbfbdf0a-8be8-4eae-ac66-c906e72794e8",
   "metadata": {},
   "source": [
    "평균 비교 bar plot\n",
    "\n",
    "저 바 꼭대기에 있는 검은 실선 -> 95% 신뢰수간 -> 이 평균값이 얼마나 믿을 만 거냐면~ ..이런 의미\n",
    "- 좁을 수록 믿을만 한 것\n",
    "- 데이터가 많을 수록, 편차가 적을 수록 신뢰구간은 좁아진다.\n",
    "\n",
    "두 평균에 차이가 크고, 신뢰구간은 겹치지 않을 때, 대립가설이 맞다고 볼 수 있다."
   ]
  },
  {
   "cell_type": "code",
   "execution_count": 16,
   "id": "ecad31bb-3900-40fe-bcd2-261ee7dc9326",
   "metadata": {},
   "outputs": [
    {
     "data": {
      "image/png": "[encoded data removed]",
      "text/plain": [
       "<Figure size 640x480 with 1 Axes>"
      ]
     },
     "metadata": {},
     "output_type": "display_data"
    }
   ],
   "source": [
    "sns.barplot(x='Pclass',y='Age',data=titanic)\n",
    "plt.grid()\n",
    "plt.show()"
   ]
  },
  {
   "cell_type": "markdown",
   "id": "a0dd08cd-9763-4bd9-a7c8-aeeeea6004ff",
   "metadata": {},
   "source": [
    "하나 더 해봤어요"
   ]
  },
  {
   "cell_type": "code",
   "execution_count": 17,
   "id": "3f85be2b-2580-460b-9eae-59ec92998008",
   "metadata": {},
   "outputs": [
    {
     "data": {
      "text/plain": [
       "Ttest_indResult(statistic=2.06668694625381, pvalue=0.03912465401348249)"
      ]
     },
     "execution_count": 17,
     "metadata": {},
     "output_type": "execute_result"
    }
   ],
   "source": [
    "tmp = titanic.loc[titanic['Age'].notnull()] # NaN 행 제외\n",
    "died = tmp.loc[tmp['Survived']==0, 'Age']\n",
    "survived = tmp.loc[tmp['Survived']==1, 'Age']\n",
    "\n",
    "spst.ttest_ind(died, survived)"
   ]
  },
  {
   "cell_type": "markdown",
   "id": "b01ab948-e689-4c71-9c40-56c8fcf8b4c7",
   "metadata": {},
   "source": [
    "두 집단(범주)의 평균 비교: T-Test\n",
    "\n",
    "`ttest_ind(B, A, equal_var=False)`\n",
    "- A와 비교할 때, B의 평균이 크니?\n",
    "- equal_var: A와 B의 분산이 같은가? 모르면 False(기본값)\n",
    "\n",
    "t-통계량이 -2보다 작거나, 2보다 크면 관계가 있다고 판단\n",
    "\n",
    "p-value가 0.05보다 작으면 관계가 있다고 판단"
   ]
  },
  {
   "cell_type": "code",
   "execution_count": 19,
   "id": "0d775883-1ef5-46e2-8178-ecbb009d9f69",
   "metadata": {},
   "outputs": [
    {
     "data": {
      "text/plain": [
       "F_onewayResult(statistic=57.443484340676214, pvalue=7.487984171959904e-24)"
      ]
     },
     "execution_count": 19,
     "metadata": {},
     "output_type": "execute_result"
    }
   ],
   "source": [
    "tmp = titanic.loc[titanic['Age'].notnull()]\n",
    "\n",
    "P_1 = tmp.loc[tmp.Pclass==1, 'Age']\n",
    "P_2 = tmp.loc[tmp.Pclass==2, 'Age']\n",
    "P_3 = tmp.loc[tmp.Pclass==3, 'Age']\n",
    "\n",
    "spst.f_oneway(P_1, P_2, P_3)"
   ]
  },
  {
   "cell_type": "markdown",
   "id": "9bf311ef-16ca-4d4b-9a2e-d0befd8c2267",
   "metadata": {},
   "source": [
    "셋 이상 집단(범주)의 숫자 비교: ANOVA\n",
    "\n",
    "`f_oneway(A, B, C)`\n",
    "\n",
    "f-통계량이 2~3보다 크면 관계가 있다고 판단\n",
    "\n",
    "p-value가 0.05보다 작으면 관계가 있다고 판단"
   ]
  },
  {
   "cell_type": "markdown",
   "id": "75359d61-6ab0-4a1b-8418-084bbcc54e95",
   "metadata": {},
   "source": [
    "# 이변량 분석 - 범주 -> 범주"
   ]
  },
  {
   "cell_type": "code",
   "execution_count": 23,
   "id": "d2b62509-3905-4593-854a-8076e22c63d7",
   "metadata": {},
   "outputs": [
    {
     "data": {
      "text/html": [
       "<div>\n",
       "<style scoped>\n",
       "    .dataframe tbody tr th:only-of-type {\n",
       "        vertical-align: middle;\n",
       "    }\n",
       "\n",
       "    .dataframe tbody tr th {\n",
       "        vertical-align: top;\n",
       "    }\n",
       "\n",
       "    .dataframe thead th {\n",
       "        text-align: right;\n",
       "    }\n",
       "</style>\n",
       "<table border=\"1\" class=\"dataframe\">\n",
       "  <thead>\n",
       "    <tr style=\"text-align: right;\">\n",
       "      <th>Sex</th>\n",
       "      <th>female</th>\n",
       "      <th>male</th>\n",
       "    </tr>\n",
       "    <tr>\n",
       "      <th>Survived</th>\n",
       "      <th></th>\n",
       "      <th></th>\n",
       "    </tr>\n",
       "  </thead>\n",
       "  <tbody>\n",
       "    <tr>\n",
       "      <th>0</th>\n",
       "      <td>81</td>\n",
       "      <td>468</td>\n",
       "    </tr>\n",
       "    <tr>\n",
       "      <th>1</th>\n",
       "      <td>233</td>\n",
       "      <td>109</td>\n",
       "    </tr>\n",
       "  </tbody>\n",
       "</table>\n",
       "</div>"
      ],
      "text/plain": [
       "Sex       female  male\n",
       "Survived              \n",
       "0             81   468\n",
       "1            233   109"
      ]
     },
     "execution_count": 23,
     "metadata": {},
     "output_type": "execute_result"
    }
   ],
   "source": [
    "pd.crosstab(titanic['Survived'], titanic['Sex'])"
   ]
  },
  {
   "cell_type": "code",
   "execution_count": 24,
   "id": "4c8f8274-73ba-48e9-b3c6-e07fc7886fef",
   "metadata": {},
   "outputs": [
    {
     "data": {
      "text/html": [
       "<div>\n",
       "<style scoped>\n",
       "    .dataframe tbody tr th:only-of-type {\n",
       "        vertical-align: middle;\n",
       "    }\n",
       "\n",
       "    .dataframe tbody tr th {\n",
       "        vertical-align: top;\n",
       "    }\n",
       "\n",
       "    .dataframe thead th {\n",
       "        text-align: right;\n",
       "    }\n",
       "</style>\n",
       "<table border=\"1\" class=\"dataframe\">\n",
       "  <thead>\n",
       "    <tr style=\"text-align: right;\">\n",
       "      <th>Sex</th>\n",
       "      <th>female</th>\n",
       "      <th>male</th>\n",
       "    </tr>\n",
       "    <tr>\n",
       "      <th>Survived</th>\n",
       "      <th></th>\n",
       "      <th></th>\n",
       "    </tr>\n",
       "  </thead>\n",
       "  <tbody>\n",
       "    <tr>\n",
       "      <th>0</th>\n",
       "      <td>0.257962</td>\n",
       "      <td>0.811092</td>\n",
       "    </tr>\n",
       "    <tr>\n",
       "      <th>1</th>\n",
       "      <td>0.742038</td>\n",
       "      <td>0.188908</td>\n",
       "    </tr>\n",
       "  </tbody>\n",
       "</table>\n",
       "</div>"
      ],
      "text/plain": [
       "Sex         female      male\n",
       "Survived                    \n",
       "0         0.257962  0.811092\n",
       "1         0.742038  0.188908"
      ]
     },
     "execution_count": 24,
     "metadata": {},
     "output_type": "execute_result"
    }
   ],
   "source": [
    "pd.crosstab(titanic['Survived'], titanic['Sex'], normalize='columns')"
   ]
  },
  {
   "cell_type": "code",
   "execution_count": 25,
   "id": "6d9e428e-5e0d-40cd-89a3-c5ef8ba6e791",
   "metadata": {},
   "outputs": [
    {
     "data": {
      "text/html": [
       "<div>\n",
       "<style scoped>\n",
       "    .dataframe tbody tr th:only-of-type {\n",
       "        vertical-align: middle;\n",
       "    }\n",
       "\n",
       "    .dataframe tbody tr th {\n",
       "        vertical-align: top;\n",
       "    }\n",
       "\n",
       "    .dataframe thead th {\n",
       "        text-align: right;\n",
       "    }\n",
       "</style>\n",
       "<table border=\"1\" class=\"dataframe\">\n",
       "  <thead>\n",
       "    <tr style=\"text-align: right;\">\n",
       "      <th>Sex</th>\n",
       "      <th>female</th>\n",
       "      <th>male</th>\n",
       "    </tr>\n",
       "    <tr>\n",
       "      <th>Survived</th>\n",
       "      <th></th>\n",
       "      <th></th>\n",
       "    </tr>\n",
       "  </thead>\n",
       "  <tbody>\n",
       "    <tr>\n",
       "      <th>0</th>\n",
       "      <td>0.147541</td>\n",
       "      <td>0.852459</td>\n",
       "    </tr>\n",
       "    <tr>\n",
       "      <th>1</th>\n",
       "      <td>0.681287</td>\n",
       "      <td>0.318713</td>\n",
       "    </tr>\n",
       "  </tbody>\n",
       "</table>\n",
       "</div>"
      ],
      "text/plain": [
       "Sex         female      male\n",
       "Survived                    \n",
       "0         0.147541  0.852459\n",
       "1         0.681287  0.318713"
      ]
     },
     "execution_count": 25,
     "metadata": {},
     "output_type": "execute_result"
    }
   ],
   "source": [
    "pd.crosstab(titanic['Survived'], titanic['Sex'], normalize='index')"
   ]
  },
  {
   "cell_type": "code",
   "execution_count": null,
   "id": "d268cafb-5088-48b5-9fed-2fde06cb285c",
   "metadata": {},
   "outputs": [
    {
     "data": {
      "text/html": [
       "<div>\n",
       "<style scoped>\n",
       "    .dataframe tbody tr th:only-of-type {\n",
       "        vertical-align: middle;\n",
       "    }\n",
       "\n",
       "    .dataframe tbody tr th {\n",
       "        vertical-align: top;\n",
       "    }\n",
       "\n",
       "    .dataframe thead th {\n",
       "        text-align: right;\n",
       "    }\n",
       "</style>\n",
       "<table border=\"1\" class=\"dataframe\">\n",
       "  <thead>\n",
       "    <tr style=\"text-align: right;\">\n",
       "      <th>Sex</th>\n",
       "      <th>female</th>\n",
       "      <th>male</th>\n",
       "    </tr>\n",
       "    <tr>\n",
       "      <th>Survived</th>\n",
       "      <th></th>\n",
       "      <th></th>\n",
       "    </tr>\n",
       "  </thead>\n",
       "  <tbody>\n",
       "    <tr>\n",
       "      <th>0</th>\n",
       "      <td>0.090909</td>\n",
       "      <td>0.525253</td>\n",
       "    </tr>\n",
       "    <tr>\n",
       "      <th>1</th>\n",
       "      <td>0.261504</td>\n",
       "      <td>0.122334</td>\n",
       "    </tr>\n",
       "  </tbody>\n",
       "</table>\n",
       "</div>"
      ],
      "text/plain": [
       "Sex         female      male\n",
       "Survived                    \n",
       "0         0.090909  0.525253\n",
       "1         0.261504  0.122334"
      ]
     },
     "execution_count": 27,
     "metadata": {},
     "output_type": "execute_result"
    }
   ],
   "source": [
    "pd.crosstab(titanic['Survived'], titanic['Sex'], normalize='all')"
   ]
  },
  {
   "cell_type": "markdown",
   "id": "3fb30c32-e87e-483e-baff-a8d7ba9374a7",
   "metadata": {},
   "source": [
    "교차표로부터 이렇게 확인할 수 있어요\n",
    "\n",
    "normalize도 해서 볼 수 있구요"
   ]
  },
  {
   "cell_type": "code",
   "execution_count": 31,
   "id": "df1cc1ac-73b5-4201-810b-51da9a50b6b8",
   "metadata": {},
   "outputs": [
    {
     "ename": "ModuleNotFoundError",
     "evalue": "No module named 'statsmodels'",
     "output_type": "error",
     "traceback": [
      "\u001b[1;31m---------------------------------------------------------------------------\u001b[0m",
      "\u001b[1;31mModuleNotFoundError\u001b[0m                       Traceback (most recent call last)",
      "\u001b[1;32m~\\AppData\\Local\\Temp\\ipykernel_4648\\170326485.py\u001b[0m in \u001b[0;36m<module>\u001b[1;34m\u001b[0m\n\u001b[1;32m----> 1\u001b[1;33m \u001b[1;32mfrom\u001b[0m \u001b[0mstatsmodels\u001b[0m\u001b[1;33m.\u001b[0m\u001b[0mgraphics\u001b[0m\u001b[1;33m.\u001b[0m\u001b[0mmosaicplot\u001b[0m \u001b[1;32mimport\u001b[0m \u001b[0mmosaic\u001b[0m\u001b[1;33m\u001b[0m\u001b[1;33m\u001b[0m\u001b[0m\n\u001b[0m\u001b[0;32m      2\u001b[0m \u001b[1;33m\u001b[0m\u001b[0m\n\u001b[0;32m      3\u001b[0m \u001b[0mmosaic\u001b[0m\u001b[1;33m(\u001b[0m\u001b[0mtitanic\u001b[0m\u001b[1;33m,\u001b[0m \u001b[1;33m[\u001b[0m\u001b[1;34m'Pclass'\u001b[0m\u001b[1;33m,\u001b[0m\u001b[1;34m'Survived'\u001b[0m\u001b[1;33m]\u001b[0m\u001b[1;33m)\u001b[0m\u001b[1;33m\u001b[0m\u001b[1;33m\u001b[0m\u001b[0m\n\u001b[0;32m      4\u001b[0m \u001b[0mplt\u001b[0m\u001b[1;33m.\u001b[0m\u001b[0maxhline\u001b[0m\u001b[1;33m(\u001b[0m\u001b[1;36m1\u001b[0m \u001b[1;33m-\u001b[0m \u001b[0mtitanic\u001b[0m\u001b[1;33m[\u001b[0m\u001b[1;34m'Survived'\u001b[0m\u001b[1;33m]\u001b[0m\u001b[1;33m.\u001b[0m\u001b[0mmean\u001b[0m\u001b[1;33m(\u001b[0m\u001b[1;33m)\u001b[0m\u001b[1;33m,\u001b[0m \u001b[0mcolor\u001b[0m\u001b[1;33m=\u001b[0m\u001b[1;34m'r'\u001b[0m\u001b[1;33m)\u001b[0m\u001b[1;33m\u001b[0m\u001b[1;33m\u001b[0m\u001b[0m\n\u001b[0;32m      5\u001b[0m \u001b[0mplt\u001b[0m\u001b[1;33m.\u001b[0m\u001b[0mshow\u001b[0m\u001b[1;33m(\u001b[0m\u001b[1;33m)\u001b[0m\u001b[1;33m\u001b[0m\u001b[1;33m\u001b[0m\u001b[0m\n",
      "\u001b[1;31mModuleNotFoundError\u001b[0m: No module named 'statsmodels'"
     ]
    }
   ],
   "source": [
    "from statsmodels.graphics.mosaicplot import mosaic\n",
    "\n",
    "mosaic(titanic, ['Pclass','Survived'])\n",
    "plt.axhline(1 - titanic['Survived'].mean(), color='r')\n",
    "plt.show()"
   ]
  },
  {
   "cell_type": "markdown",
   "id": "ca7eeab9-93b5-4d74-b2f1-5ef5425b14e2",
   "metadata": {},
   "source": [
    ".. 아무튼 그런 게 있어요\n",
    "\n",
    "네모네모난 그래프요\n",
    "\n",
    "설치하고 오기 번거로우니 우선 패스."
   ]
  },
  {
   "cell_type": "code",
   "execution_count": 33,
   "id": "2a6616ec-1b2c-41c9-9a41-c654c79cd35a",
   "metadata": {},
   "outputs": [
    {
     "data": {
      "text/html": [
       "<div>\n",
       "<style scoped>\n",
       "    .dataframe tbody tr th:only-of-type {\n",
       "        vertical-align: middle;\n",
       "    }\n",
       "\n",
       "    .dataframe tbody tr th {\n",
       "        vertical-align: top;\n",
       "    }\n",
       "\n",
       "    .dataframe thead th {\n",
       "        text-align: right;\n",
       "    }\n",
       "</style>\n",
       "<table border=\"1\" class=\"dataframe\">\n",
       "  <thead>\n",
       "    <tr style=\"text-align: right;\">\n",
       "      <th>Pclass</th>\n",
       "      <th>1</th>\n",
       "      <th>2</th>\n",
       "      <th>3</th>\n",
       "    </tr>\n",
       "    <tr>\n",
       "      <th>Survived</th>\n",
       "      <th></th>\n",
       "      <th></th>\n",
       "      <th></th>\n",
       "    </tr>\n",
       "  </thead>\n",
       "  <tbody>\n",
       "    <tr>\n",
       "      <th>0</th>\n",
       "      <td>80</td>\n",
       "      <td>97</td>\n",
       "      <td>372</td>\n",
       "    </tr>\n",
       "    <tr>\n",
       "      <th>1</th>\n",
       "      <td>136</td>\n",
       "      <td>87</td>\n",
       "      <td>119</td>\n",
       "    </tr>\n",
       "  </tbody>\n",
       "</table>\n",
       "</div>"
      ],
      "text/plain": [
       "Pclass      1   2    3\n",
       "Survived              \n",
       "0          80  97  372\n",
       "1         136  87  119"
      ]
     },
     "metadata": {},
     "output_type": "display_data"
    },
    {
     "data": {
      "text/plain": [
       "(102.88898875696056,\n",
       " 4.549251711298793e-23,\n",
       " 2,\n",
       " array([[133.09090909, 113.37373737, 302.53535354],\n",
       "        [ 82.90909091,  70.62626263, 188.46464646]]))"
      ]
     },
     "execution_count": 33,
     "metadata": {},
     "output_type": "execute_result"
    }
   ],
   "source": [
    "table = pd.crosstab(titanic['Survived'], titanic['Pclass'])\n",
    "display(table)\n",
    "spst.chi2_contingency(table)"
   ]
  },
  {
   "cell_type": "markdown",
   "id": "d5ff7686-e583-440b-bfdf-d3a16c3464a1",
   "metadata": {},
   "source": [
    "`chi2_contingency` 카이제곱 검정\n",
    "\n",
    "table 형태의 데이터를 넘기는구나.\n",
    "\n",
    "결과로 나온 것들. 순서대로..\n",
    "- 1. 카이제곱 통계량\n",
    "- 2. p-value\n",
    "- 3. 자유도: Pclass 자유도(3 - 1) * Survived 자유도(2 - 1) = 2\n",
    "- 4. 기대빈도: 계산된 값\n",
    "\n",
    "카이제곱 통계량은\n",
    "- 클 수록 기대빈도로부터 실제 값에 차이가 크다는 의미\n",
    "- 범주의 수가 늘어날 수록 값은 커지게 되어 있음\n",
    "- **자유도의 약 2배보다 크면, 차이가 있다고 본다.**"
   ]
  },
  {
   "cell_type": "markdown",
   "id": "bc540613-8520-4f34-9068-9563237d80c9",
   "metadata": {},
   "source": [
    "# 이변량 분석 - 숫자 -> 범주 - 시각화"
   ]
  },
  {
   "cell_type": "code",
   "execution_count": 35,
   "id": "3ece36e2-f8fb-4130-9a41-36f013d229ec",
   "metadata": {},
   "outputs": [
    {
     "data": {
      "image/png": "[encoded data removed]",
      "text/plain": [
       "<Figure size 640x480 with 1 Axes>"
      ]
     },
     "metadata": {},
     "output_type": "display_data"
    }
   ],
   "source": [
    "sns.kdeplot(x='Age', data=titanic, hue='Survived',\n",
    "           common_norm=False) # 생존자, 사망자 각각 kde plot 그려주세요\n",
    "plt.show()"
   ]
  },
  {
   "cell_type": "code",
   "execution_count": 37,
   "id": "49cf9ecf-0c2a-4f7e-a8ee-f84e4065ad13",
   "metadata": {},
   "outputs": [
    {
     "data": {
      "image/png": "[encoded data removed]",
      "text/plain": [
       "<Figure size 640x480 with 1 Axes>"
      ]
     },
     "metadata": {},
     "output_type": "display_data"
    }
   ],
   "source": [
    "sns.kdeplot(x='Age', data=titanic, hue='Survived',\n",
    "           multiple='fill') # 모든 구간에 대한 100% 비율로 kde plot 그려주세요\n",
    "plt.axhline(titanic['Survived'].mean(), color='r')\n",
    "plt.show()"
   ]
  }
 ],
 "metadata": {
  "kernelspec": {
   "display_name": "yewon",
   "language": "python",
   "name": "yewon"
  },
  "language_info": {
   "codemirror_mode": {
    "name": "ipython",
    "version": 3
   },
   "file_extension": ".py",
   "mimetype": "text/x-python",
   "name": "python",
   "nbconvert_exporter": "python",
   "pygments_lexer": "ipython3",
   "version": "3.7.16"
  }
 },
 "nbformat": 4,
 "nbformat_minor": 5
}
